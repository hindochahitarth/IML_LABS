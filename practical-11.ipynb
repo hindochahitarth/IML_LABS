{
 "cells": [
  {
   "cell_type": "code",
   "execution_count": 1,
   "id": "9c685201",
   "metadata": {
    "_cell_guid": "b1076dfc-b9ad-4769-8c92-a6c4dae69d19",
    "_uuid": "8f2839f25d086af736a60e9eeb907d3b93b6e0e5",
    "execution": {
     "iopub.execute_input": "2023-11-06T03:01:24.876332Z",
     "iopub.status.busy": "2023-11-06T03:01:24.875974Z",
     "iopub.status.idle": "2023-11-06T03:01:25.240055Z",
     "shell.execute_reply": "2023-11-06T03:01:25.238911Z"
    },
    "papermill": {
     "duration": 0.37066,
     "end_time": "2023-11-06T03:01:25.242738",
     "exception": false,
     "start_time": "2023-11-06T03:01:24.872078",
     "status": "completed"
    },
    "tags": []
   },
   "outputs": [
    {
     "name": "stdout",
     "output_type": "stream",
     "text": [
      "Total Rows are :  418\n",
      "\n",
      "Columns with NaN values:\n",
      "Index(['Age', 'Fare', 'Cabin'], dtype='object')\n",
      "\n",
      "Total rows after dropping NaN  : 87\n"
     ]
    }
   ],
   "source": [
    "import pandas as pd\n",
    "\n",
    "data=pd.read_csv('/kaggle/input/test-file/tested.csv')\n",
    "df = pd.DataFrame(data)\n",
    "\n",
    "\n",
    "df_filtered = df.dropna(axis=1, how='any')\n",
    "\n",
    "\n",
    "rows_with_nan = df[df.isna().any(axis=1)]\n",
    "columns_with_nan = df.columns[df.isna().any()]\n",
    "\n",
    "print(\"Total Rows are : \",len(df_filtered))\n",
    "print(\"\\nColumns with NaN values:\")\n",
    "print(columns_with_nan)\n",
    "\n",
    "df_no_na_rows = df.dropna(axis=0, how='any')\n",
    "\n",
    "print(f\"\\nTotal rows after dropping NaN  : {len(df_no_na_rows)}\")\n"
   ]
  },
  {
   "cell_type": "code",
   "execution_count": null,
   "id": "1ef26661",
   "metadata": {
    "papermill": {
     "duration": 0.00323,
     "end_time": "2023-11-06T03:01:25.247762",
     "exception": false,
     "start_time": "2023-11-06T03:01:25.244532",
     "status": "completed"
    },
    "tags": []
   },
   "outputs": [],
   "source": []
  }
 ],
 "metadata": {
  "kernelspec": {
   "display_name": "Python 3",
   "language": "python",
   "name": "python3"
  },
  "language_info": {
   "codemirror_mode": {
    "name": "ipython",
    "version": 3
   },
   "file_extension": ".py",
   "mimetype": "text/x-python",
   "name": "python",
   "nbconvert_exporter": "python",
   "pygments_lexer": "ipython3",
   "version": "3.10.12"
  },
  "papermill": {
   "default_parameters": {},
   "duration": 3.849421,
   "end_time": "2023-11-06T03:01:25.669976",
   "environment_variables": {},
   "exception": null,
   "input_path": "__notebook__.ipynb",
   "output_path": "__notebook__.ipynb",
   "parameters": {},
   "start_time": "2023-11-06T03:01:21.820555",
   "version": "2.4.0"
  }
 },
 "nbformat": 4,
 "nbformat_minor": 5
}
