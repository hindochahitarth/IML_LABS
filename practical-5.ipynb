{
 "cells": [
  {
   "cell_type": "code",
   "execution_count": 1,
   "id": "5328eb3a",
   "metadata": {
    "_cell_guid": "b1076dfc-b9ad-4769-8c92-a6c4dae69d19",
    "_uuid": "8f2839f25d086af736a60e9eeb907d3b93b6e0e5",
    "execution": {
     "iopub.execute_input": "2023-11-06T03:01:12.345720Z",
     "iopub.status.busy": "2023-11-06T03:01:12.345305Z",
     "iopub.status.idle": "2023-11-06T03:01:12.361405Z",
     "shell.execute_reply": "2023-11-06T03:01:12.360389Z"
    },
    "papermill": {
     "duration": 0.023119,
     "end_time": "2023-11-06T03:01:12.364149",
     "exception": false,
     "start_time": "2023-11-06T03:01:12.341030",
     "status": "completed"
    },
    "tags": []
   },
   "outputs": [
    {
     "name": "stdout",
     "output_type": "stream",
     "text": [
      "Original Array is : \n",
      "[[1 2 3]\n",
      " [4 5 6]]\n",
      "\n",
      "Flattened Array is : \n",
      "[1 2 3 4 5 6]\n",
      "\n",
      "Maximum is :  6\n",
      "Minimum is :  1\n"
     ]
    }
   ],
   "source": [
    "import numpy as np\n",
    "\n",
    "arr=np.array([[1,2,3],[4,5,6]])\n",
    "print(\"Original Array is : \")\n",
    "print(arr)\n",
    "print()\n",
    "\n",
    "print(\"Flattened Array is : \")\n",
    "farr=arr.flatten()\n",
    "print(farr)\n",
    "print()\n",
    "\n",
    "max=farr.max()\n",
    "print(\"Maximum is : \",max)\n",
    "\n",
    "min=farr.min()\n",
    "print(\"Minimum is : \",min)"
   ]
  },
  {
   "cell_type": "code",
   "execution_count": 2,
   "id": "e83c0f2c",
   "metadata": {
    "execution": {
     "iopub.execute_input": "2023-11-06T03:01:12.373169Z",
     "iopub.status.busy": "2023-11-06T03:01:12.372502Z",
     "iopub.status.idle": "2023-11-06T03:01:12.380174Z",
     "shell.execute_reply": "2023-11-06T03:01:12.379169Z"
    },
    "papermill": {
     "duration": 0.016585,
     "end_time": "2023-11-06T03:01:12.382841",
     "exception": false,
     "start_time": "2023-11-06T03:01:12.366256",
     "status": "completed"
    },
    "tags": []
   },
   "outputs": [
    {
     "name": "stdout",
     "output_type": "stream",
     "text": [
      "[1 2 3 4 5 6 7 8 9]\n",
      "\n",
      "5.0\n",
      "Standard Deviation :  2.581988897471611\n",
      "Variance :  6.666666666666667\n"
     ]
    }
   ],
   "source": [
    "import numpy as np\n",
    "\n",
    "arr=np.arange(1,10)\n",
    "print(arr)\n",
    "print()\n",
    "\n",
    "mean=arr.mean()\n",
    "print(mean)\n",
    "std=arr.std()\n",
    "print(\"Standard Deviation : \",std)\n",
    "var=arr.var()\n",
    "print(\"Variance : \",var)\n"
   ]
  },
  {
   "cell_type": "code",
   "execution_count": null,
   "id": "a5385d33",
   "metadata": {
    "papermill": {
     "duration": 0.001494,
     "end_time": "2023-11-06T03:01:12.386206",
     "exception": false,
     "start_time": "2023-11-06T03:01:12.384712",
     "status": "completed"
    },
    "tags": []
   },
   "outputs": [],
   "source": []
  }
 ],
 "metadata": {
  "kernelspec": {
   "display_name": "Python 3",
   "language": "python",
   "name": "python3"
  },
  "language_info": {
   "codemirror_mode": {
    "name": "ipython",
    "version": 3
   },
   "file_extension": ".py",
   "mimetype": "text/x-python",
   "name": "python",
   "nbconvert_exporter": "python",
   "pygments_lexer": "ipython3",
   "version": "3.10.12"
  },
  "papermill": {
   "default_parameters": {},
   "duration": 3.641973,
   "end_time": "2023-11-06T03:01:12.813019",
   "environment_variables": {},
   "exception": null,
   "input_path": "__notebook__.ipynb",
   "output_path": "__notebook__.ipynb",
   "parameters": {},
   "start_time": "2023-11-06T03:01:09.171046",
   "version": "2.4.0"
  }
 },
 "nbformat": 4,
 "nbformat_minor": 5
}
