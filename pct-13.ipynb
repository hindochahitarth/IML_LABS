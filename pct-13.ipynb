{
 "cells": [
  {
   "cell_type": "code",
   "execution_count": 1,
   "id": "6ce350f5",
   "metadata": {
    "_cell_guid": "f1c8eb43-e1d9-4786-86a5-759142d12756",
    "_uuid": "b4788e47-b08d-4714-b43e-3ecdaf62f8af",
    "collapsed": false,
    "execution": {
     "iopub.execute_input": "2023-11-04T12:46:08.969330Z",
     "iopub.status.busy": "2023-11-04T12:46:08.968290Z",
     "iopub.status.idle": "2023-11-04T12:46:10.132343Z",
     "shell.execute_reply": "2023-11-04T12:46:10.130827Z"
    },
    "jupyter": {
     "outputs_hidden": false
    },
    "papermill": {
     "duration": 1.178204,
     "end_time": "2023-11-04T12:46:10.137718",
     "exception": false,
     "start_time": "2023-11-04T12:46:08.959514",
     "status": "completed"
    },
    "tags": []
   },
   "outputs": [
    {
     "data": {
      "text/html": [
       "<div>\n",
       "<style scoped>\n",
       "    .dataframe tbody tr th:only-of-type {\n",
       "        vertical-align: middle;\n",
       "    }\n",
       "\n",
       "    .dataframe tbody tr th {\n",
       "        vertical-align: top;\n",
       "    }\n",
       "\n",
       "    .dataframe thead th {\n",
       "        text-align: right;\n",
       "    }\n",
       "</style>\n",
       "<table border=\"1\" class=\"dataframe\">\n",
       "  <thead>\n",
       "    <tr style=\"text-align: right;\">\n",
       "      <th></th>\n",
       "      <th>User ID</th>\n",
       "      <th>Gender</th>\n",
       "      <th>Age</th>\n",
       "      <th>EstimatedSalary</th>\n",
       "      <th>Purchased</th>\n",
       "    </tr>\n",
       "  </thead>\n",
       "  <tbody>\n",
       "    <tr>\n",
       "      <th>0</th>\n",
       "      <td>15624510</td>\n",
       "      <td>Male</td>\n",
       "      <td>19</td>\n",
       "      <td>19000</td>\n",
       "      <td>0</td>\n",
       "    </tr>\n",
       "    <tr>\n",
       "      <th>1</th>\n",
       "      <td>15810944</td>\n",
       "      <td>Male</td>\n",
       "      <td>35</td>\n",
       "      <td>20000</td>\n",
       "      <td>0</td>\n",
       "    </tr>\n",
       "    <tr>\n",
       "      <th>2</th>\n",
       "      <td>15668575</td>\n",
       "      <td>Female</td>\n",
       "      <td>26</td>\n",
       "      <td>43000</td>\n",
       "      <td>0</td>\n",
       "    </tr>\n",
       "    <tr>\n",
       "      <th>3</th>\n",
       "      <td>15603246</td>\n",
       "      <td>Female</td>\n",
       "      <td>27</td>\n",
       "      <td>57000</td>\n",
       "      <td>0</td>\n",
       "    </tr>\n",
       "    <tr>\n",
       "      <th>4</th>\n",
       "      <td>15804002</td>\n",
       "      <td>Male</td>\n",
       "      <td>19</td>\n",
       "      <td>76000</td>\n",
       "      <td>0</td>\n",
       "    </tr>\n",
       "  </tbody>\n",
       "</table>\n",
       "</div>"
      ],
      "text/plain": [
       "    User ID  Gender  Age  EstimatedSalary  Purchased\n",
       "0  15624510    Male   19            19000          0\n",
       "1  15810944    Male   35            20000          0\n",
       "2  15668575  Female   26            43000          0\n",
       "3  15603246  Female   27            57000          0\n",
       "4  15804002    Male   19            76000          0"
      ]
     },
     "execution_count": 1,
     "metadata": {},
     "output_type": "execute_result"
    }
   ],
   "source": [
    "import pandas as pd\n",
    "\n",
    "df=pd.read_csv('/kaggle/input/social-network-ads/Social_Network_Ads.csv')\n",
    "df.head()"
   ]
  },
  {
   "cell_type": "code",
   "execution_count": 2,
   "id": "3d16cf9d",
   "metadata": {
    "_cell_guid": "e4562a87-0256-4071-8aba-59a6db790e03",
    "_uuid": "f6984fbf-97a0-4e27-b78a-167b2f0c31d9",
    "collapsed": false,
    "execution": {
     "iopub.execute_input": "2023-11-04T12:46:10.154143Z",
     "iopub.status.busy": "2023-11-04T12:46:10.153715Z",
     "iopub.status.idle": "2023-11-04T12:46:10.172670Z",
     "shell.execute_reply": "2023-11-04T12:46:10.171042Z"
    },
    "jupyter": {
     "outputs_hidden": false
    },
    "papermill": {
     "duration": 0.032164,
     "end_time": "2023-11-04T12:46:10.176626",
     "exception": false,
     "start_time": "2023-11-04T12:46:10.144462",
     "status": "completed"
    },
    "tags": []
   },
   "outputs": [
    {
     "name": "stdout",
     "output_type": "stream",
     "text": [
      "Shape is : (400, 5) \n",
      "\n",
      "<bound method DataFrame.info of       User ID  Gender  Age  EstimatedSalary  Purchased\n",
      "0    15624510    Male   19            19000          0\n",
      "1    15810944    Male   35            20000          0\n",
      "2    15668575  Female   26            43000          0\n",
      "3    15603246  Female   27            57000          0\n",
      "4    15804002    Male   19            76000          0\n",
      "..        ...     ...  ...              ...        ...\n",
      "395  15691863  Female   46            41000          1\n",
      "396  15706071    Male   51            23000          1\n",
      "397  15654296  Female   50            20000          1\n",
      "398  15755018    Male   36            33000          0\n",
      "399  15594041  Female   49            36000          1\n",
      "\n",
      "[400 rows x 5 columns]>\n"
     ]
    }
   ],
   "source": [
    "print (\"Shape is :\",df.shape,\"\\n\") # Printing shape (rows,columns)\n",
    "print(df.info)"
   ]
  },
  {
   "cell_type": "code",
   "execution_count": 3,
   "id": "ae175fd5",
   "metadata": {
    "_cell_guid": "1abb8ff6-3a9b-4a01-a3f9-27aa3fcd64a5",
    "_uuid": "0f7af023-13ab-42e3-a359-de69e0c65922",
    "collapsed": false,
    "execution": {
     "iopub.execute_input": "2023-11-04T12:46:10.193585Z",
     "iopub.status.busy": "2023-11-04T12:46:10.193147Z",
     "iopub.status.idle": "2023-11-04T12:46:10.225515Z",
     "shell.execute_reply": "2023-11-04T12:46:10.223819Z"
    },
    "jupyter": {
     "outputs_hidden": false
    },
    "papermill": {
     "duration": 0.045112,
     "end_time": "2023-11-04T12:46:10.229104",
     "exception": false,
     "start_time": "2023-11-04T12:46:10.183992",
     "status": "completed"
    },
    "tags": []
   },
   "outputs": [
    {
     "data": {
      "text/html": [
       "<div>\n",
       "<style scoped>\n",
       "    .dataframe tbody tr th:only-of-type {\n",
       "        vertical-align: middle;\n",
       "    }\n",
       "\n",
       "    .dataframe tbody tr th {\n",
       "        vertical-align: top;\n",
       "    }\n",
       "\n",
       "    .dataframe thead th {\n",
       "        text-align: right;\n",
       "    }\n",
       "</style>\n",
       "<table border=\"1\" class=\"dataframe\">\n",
       "  <thead>\n",
       "    <tr style=\"text-align: right;\">\n",
       "      <th></th>\n",
       "      <th>User ID</th>\n",
       "      <th>Age</th>\n",
       "      <th>EstimatedSalary</th>\n",
       "      <th>Purchased</th>\n",
       "    </tr>\n",
       "  </thead>\n",
       "  <tbody>\n",
       "    <tr>\n",
       "      <th>count</th>\n",
       "      <td>4.000000e+02</td>\n",
       "      <td>400.000000</td>\n",
       "      <td>400.000000</td>\n",
       "      <td>400.000000</td>\n",
       "    </tr>\n",
       "    <tr>\n",
       "      <th>mean</th>\n",
       "      <td>1.569154e+07</td>\n",
       "      <td>37.655000</td>\n",
       "      <td>69742.500000</td>\n",
       "      <td>0.357500</td>\n",
       "    </tr>\n",
       "    <tr>\n",
       "      <th>std</th>\n",
       "      <td>7.165832e+04</td>\n",
       "      <td>10.482877</td>\n",
       "      <td>34096.960282</td>\n",
       "      <td>0.479864</td>\n",
       "    </tr>\n",
       "    <tr>\n",
       "      <th>min</th>\n",
       "      <td>1.556669e+07</td>\n",
       "      <td>18.000000</td>\n",
       "      <td>15000.000000</td>\n",
       "      <td>0.000000</td>\n",
       "    </tr>\n",
       "    <tr>\n",
       "      <th>25%</th>\n",
       "      <td>1.562676e+07</td>\n",
       "      <td>29.750000</td>\n",
       "      <td>43000.000000</td>\n",
       "      <td>0.000000</td>\n",
       "    </tr>\n",
       "    <tr>\n",
       "      <th>50%</th>\n",
       "      <td>1.569434e+07</td>\n",
       "      <td>37.000000</td>\n",
       "      <td>70000.000000</td>\n",
       "      <td>0.000000</td>\n",
       "    </tr>\n",
       "    <tr>\n",
       "      <th>75%</th>\n",
       "      <td>1.575036e+07</td>\n",
       "      <td>46.000000</td>\n",
       "      <td>88000.000000</td>\n",
       "      <td>1.000000</td>\n",
       "    </tr>\n",
       "    <tr>\n",
       "      <th>max</th>\n",
       "      <td>1.581524e+07</td>\n",
       "      <td>60.000000</td>\n",
       "      <td>150000.000000</td>\n",
       "      <td>1.000000</td>\n",
       "    </tr>\n",
       "  </tbody>\n",
       "</table>\n",
       "</div>"
      ],
      "text/plain": [
       "            User ID         Age  EstimatedSalary   Purchased\n",
       "count  4.000000e+02  400.000000       400.000000  400.000000\n",
       "mean   1.569154e+07   37.655000     69742.500000    0.357500\n",
       "std    7.165832e+04   10.482877     34096.960282    0.479864\n",
       "min    1.556669e+07   18.000000     15000.000000    0.000000\n",
       "25%    1.562676e+07   29.750000     43000.000000    0.000000\n",
       "50%    1.569434e+07   37.000000     70000.000000    0.000000\n",
       "75%    1.575036e+07   46.000000     88000.000000    1.000000\n",
       "max    1.581524e+07   60.000000    150000.000000    1.000000"
      ]
     },
     "execution_count": 3,
     "metadata": {},
     "output_type": "execute_result"
    }
   ],
   "source": [
    "df.describe()"
   ]
  },
  {
   "cell_type": "code",
   "execution_count": 4,
   "id": "53f6d762",
   "metadata": {
    "_cell_guid": "7d98e66d-2f95-4922-a1b4-bb5161530730",
    "_uuid": "4f130826-15ca-4820-a365-1696fc18b07b",
    "collapsed": false,
    "execution": {
     "iopub.execute_input": "2023-11-04T12:46:10.248185Z",
     "iopub.status.busy": "2023-11-04T12:46:10.247786Z",
     "iopub.status.idle": "2023-11-04T12:46:10.280098Z",
     "shell.execute_reply": "2023-11-04T12:46:10.278224Z"
    },
    "jupyter": {
     "outputs_hidden": false
    },
    "papermill": {
     "duration": 0.045973,
     "end_time": "2023-11-04T12:46:10.283824",
     "exception": false,
     "start_time": "2023-11-04T12:46:10.237851",
     "status": "completed"
    },
    "tags": []
   },
   "outputs": [
    {
     "name": "stdout",
     "output_type": "stream",
     "text": [
      "<class 'pandas.core.frame.DataFrame'>\n",
      "RangeIndex: 400 entries, 0 to 399\n",
      "Data columns (total 5 columns):\n",
      " #   Column           Non-Null Count  Dtype \n",
      "---  ------           --------------  ----- \n",
      " 0   User ID          400 non-null    int64 \n",
      " 1   Gender           400 non-null    object\n",
      " 2   Age              400 non-null    int64 \n",
      " 3   EstimatedSalary  400 non-null    int64 \n",
      " 4   Purchased        400 non-null    int64 \n",
      "dtypes: int64(4), object(1)\n",
      "memory usage: 15.8+ KB\n"
     ]
    }
   ],
   "source": [
    "df.info()"
   ]
  },
  {
   "cell_type": "code",
   "execution_count": 5,
   "id": "a832ac0e",
   "metadata": {
    "_cell_guid": "56c286ed-dfa9-4434-8170-bd8e44ac1ced",
    "_uuid": "f29948a8-100c-4385-aeb0-b66ef32524d6",
    "collapsed": false,
    "execution": {
     "iopub.execute_input": "2023-11-04T12:46:10.301755Z",
     "iopub.status.busy": "2023-11-04T12:46:10.301330Z",
     "iopub.status.idle": "2023-11-04T12:46:10.311078Z",
     "shell.execute_reply": "2023-11-04T12:46:10.309714Z"
    },
    "jupyter": {
     "outputs_hidden": false
    },
    "papermill": {
     "duration": 0.02169,
     "end_time": "2023-11-04T12:46:10.313703",
     "exception": false,
     "start_time": "2023-11-04T12:46:10.292013",
     "status": "completed"
    },
    "tags": []
   },
   "outputs": [
    {
     "data": {
      "text/plain": [
       "User ID            0\n",
       "Gender             0\n",
       "Age                0\n",
       "EstimatedSalary    0\n",
       "Purchased          0\n",
       "dtype: int64"
      ]
     },
     "execution_count": 5,
     "metadata": {},
     "output_type": "execute_result"
    }
   ],
   "source": [
    "df.isnull().sum()"
   ]
  },
  {
   "cell_type": "code",
   "execution_count": 6,
   "id": "a528a7cc",
   "metadata": {
    "_cell_guid": "d0375db9-5284-4ec8-9115-ea783c1ca65c",
    "_uuid": "7f300035-df14-4722-8588-486dc855e65a",
    "collapsed": false,
    "execution": {
     "iopub.execute_input": "2023-11-04T12:46:10.331404Z",
     "iopub.status.busy": "2023-11-04T12:46:10.330062Z",
     "iopub.status.idle": "2023-11-04T12:46:10.338073Z",
     "shell.execute_reply": "2023-11-04T12:46:10.336916Z"
    },
    "jupyter": {
     "outputs_hidden": false
    },
    "papermill": {
     "duration": 0.019951,
     "end_time": "2023-11-04T12:46:10.340901",
     "exception": false,
     "start_time": "2023-11-04T12:46:10.320950",
     "status": "completed"
    },
    "tags": []
   },
   "outputs": [],
   "source": [
    "X=df.iloc[:,1:4]"
   ]
  },
  {
   "cell_type": "code",
   "execution_count": 7,
   "id": "bd8842f1",
   "metadata": {
    "_cell_guid": "1664d4ee-92a5-4b78-a7f8-eae7bec2817b",
    "_uuid": "2998f55d-2099-42e7-9c7d-d972f27e06ec",
    "collapsed": false,
    "execution": {
     "iopub.execute_input": "2023-11-04T12:46:10.360224Z",
     "iopub.status.busy": "2023-11-04T12:46:10.358862Z",
     "iopub.status.idle": "2023-11-04T12:46:10.371547Z",
     "shell.execute_reply": "2023-11-04T12:46:10.369377Z"
    },
    "jupyter": {
     "outputs_hidden": false
    },
    "papermill": {
     "duration": 0.025861,
     "end_time": "2023-11-04T12:46:10.375468",
     "exception": false,
     "start_time": "2023-11-04T12:46:10.349607",
     "status": "completed"
    },
    "tags": []
   },
   "outputs": [],
   "source": [
    "X=pd.get_dummies(X)"
   ]
  },
  {
   "cell_type": "code",
   "execution_count": 8,
   "id": "12ed6cf6",
   "metadata": {
    "_cell_guid": "ba14fffa-83ad-4d0f-90db-b728e31cc92b",
    "_uuid": "ac8bdf62-3e06-4bbf-b16a-6c7bc5fe2038",
    "collapsed": false,
    "execution": {
     "iopub.execute_input": "2023-11-04T12:46:10.394320Z",
     "iopub.status.busy": "2023-11-04T12:46:10.393658Z",
     "iopub.status.idle": "2023-11-04T12:46:10.400226Z",
     "shell.execute_reply": "2023-11-04T12:46:10.398299Z"
    },
    "jupyter": {
     "outputs_hidden": false
    },
    "papermill": {
     "duration": 0.020306,
     "end_time": "2023-11-04T12:46:10.403134",
     "exception": false,
     "start_time": "2023-11-04T12:46:10.382828",
     "status": "completed"
    },
    "tags": []
   },
   "outputs": [],
   "source": [
    "X=X.values"
   ]
  },
  {
   "cell_type": "code",
   "execution_count": 9,
   "id": "0e0fcffa",
   "metadata": {
    "_cell_guid": "8d4a5605-788c-4ec2-ba1e-a55e43e2017f",
    "_uuid": "be2effd8-275a-4378-bb35-371263db58d8",
    "collapsed": false,
    "execution": {
     "iopub.execute_input": "2023-11-04T12:46:10.424288Z",
     "iopub.status.busy": "2023-11-04T12:46:10.423522Z",
     "iopub.status.idle": "2023-11-04T12:46:10.433558Z",
     "shell.execute_reply": "2023-11-04T12:46:10.431912Z"
    },
    "jupyter": {
     "outputs_hidden": false
    },
    "papermill": {
     "duration": 0.025094,
     "end_time": "2023-11-04T12:46:10.436354",
     "exception": false,
     "start_time": "2023-11-04T12:46:10.411260",
     "status": "completed"
    },
    "tags": []
   },
   "outputs": [
    {
     "data": {
      "text/plain": [
       "array([[19, 19000, False, True],\n",
       "       [35, 20000, False, True],\n",
       "       [26, 43000, True, False],\n",
       "       ...,\n",
       "       [50, 20000, True, False],\n",
       "       [36, 33000, False, True],\n",
       "       [49, 36000, True, False]], dtype=object)"
      ]
     },
     "execution_count": 9,
     "metadata": {},
     "output_type": "execute_result"
    }
   ],
   "source": [
    "X"
   ]
  },
  {
   "cell_type": "code",
   "execution_count": 10,
   "id": "bf4cbfbd",
   "metadata": {
    "_cell_guid": "46c89fc0-9612-4802-95c3-27f7a7dbda74",
    "_uuid": "5c95af0d-7905-4a6a-ac2e-28dc22e4660b",
    "collapsed": false,
    "execution": {
     "iopub.execute_input": "2023-11-04T12:46:10.456455Z",
     "iopub.status.busy": "2023-11-04T12:46:10.455967Z",
     "iopub.status.idle": "2023-11-04T12:46:10.462456Z",
     "shell.execute_reply": "2023-11-04T12:46:10.460516Z"
    },
    "jupyter": {
     "outputs_hidden": false
    },
    "papermill": {
     "duration": 0.021603,
     "end_time": "2023-11-04T12:46:10.466697",
     "exception": false,
     "start_time": "2023-11-04T12:46:10.445094",
     "status": "completed"
    },
    "tags": []
   },
   "outputs": [],
   "source": [
    "Y=df.iloc[:,-1].values"
   ]
  },
  {
   "cell_type": "code",
   "execution_count": 11,
   "id": "d04ec9ce",
   "metadata": {
    "_cell_guid": "3ce73d79-8a88-4577-8b8e-56e4d60eeae5",
    "_uuid": "25caded2-24e1-4db3-9ed2-97733d6a69e2",
    "collapsed": false,
    "execution": {
     "iopub.execute_input": "2023-11-04T12:46:10.486866Z",
     "iopub.status.busy": "2023-11-04T12:46:10.486083Z",
     "iopub.status.idle": "2023-11-04T12:46:12.378338Z",
     "shell.execute_reply": "2023-11-04T12:46:12.376131Z"
    },
    "jupyter": {
     "outputs_hidden": false
    },
    "papermill": {
     "duration": 1.906024,
     "end_time": "2023-11-04T12:46:12.381400",
     "exception": false,
     "start_time": "2023-11-04T12:46:10.475376",
     "status": "completed"
    },
    "tags": []
   },
   "outputs": [],
   "source": [
    "from sklearn.model_selection import train_test_split\n",
    "\n",
    "x_train,x_test,y_train,y_test=train_test_split(X,Y,train_size=0.75,test_size=0.25,random_state=42)"
   ]
  },
  {
   "cell_type": "code",
   "execution_count": 12,
   "id": "8dab48f0",
   "metadata": {
    "_cell_guid": "3256b663-1f4a-4a17-90cc-6b6d4d05c298",
    "_uuid": "4f34d760-89fe-418e-bb2c-5b9a51990c37",
    "collapsed": false,
    "execution": {
     "iopub.execute_input": "2023-11-04T12:46:12.401193Z",
     "iopub.status.busy": "2023-11-04T12:46:12.400247Z",
     "iopub.status.idle": "2023-11-04T12:46:12.809966Z",
     "shell.execute_reply": "2023-11-04T12:46:12.807986Z"
    },
    "jupyter": {
     "outputs_hidden": false
    },
    "papermill": {
     "duration": 0.42421,
     "end_time": "2023-11-04T12:46:12.813390",
     "exception": false,
     "start_time": "2023-11-04T12:46:12.389180",
     "status": "completed"
    },
    "tags": []
   },
   "outputs": [],
   "source": [
    "from sklearn.neighbors import KNeighborsClassifier\n",
    "\n",
    "model1=KNeighborsClassifier()"
   ]
  },
  {
   "cell_type": "code",
   "execution_count": 13,
   "id": "0105235e",
   "metadata": {
    "_cell_guid": "96059178-f063-4f8d-8778-55f1cec27e58",
    "_uuid": "a41ce566-896f-4388-a968-04121b04d236",
    "collapsed": false,
    "execution": {
     "iopub.execute_input": "2023-11-04T12:46:12.831927Z",
     "iopub.status.busy": "2023-11-04T12:46:12.831484Z",
     "iopub.status.idle": "2023-11-04T12:46:12.850249Z",
     "shell.execute_reply": "2023-11-04T12:46:12.848908Z"
    },
    "jupyter": {
     "outputs_hidden": false
    },
    "papermill": {
     "duration": 0.032103,
     "end_time": "2023-11-04T12:46:12.853460",
     "exception": false,
     "start_time": "2023-11-04T12:46:12.821357",
     "status": "completed"
    },
    "tags": []
   },
   "outputs": [
    {
     "data": {
      "text/html": [
       "<style>#sk-container-id-1 {color: black;background-color: white;}#sk-container-id-1 pre{padding: 0;}#sk-container-id-1 div.sk-toggleable {background-color: white;}#sk-container-id-1 label.sk-toggleable__label {cursor: pointer;display: block;width: 100%;margin-bottom: 0;padding: 0.3em;box-sizing: border-box;text-align: center;}#sk-container-id-1 label.sk-toggleable__label-arrow:before {content: \"▸\";float: left;margin-right: 0.25em;color: #696969;}#sk-container-id-1 label.sk-toggleable__label-arrow:hover:before {color: black;}#sk-container-id-1 div.sk-estimator:hover label.sk-toggleable__label-arrow:before {color: black;}#sk-container-id-1 div.sk-toggleable__content {max-height: 0;max-width: 0;overflow: hidden;text-align: left;background-color: #f0f8ff;}#sk-container-id-1 div.sk-toggleable__content pre {margin: 0.2em;color: black;border-radius: 0.25em;background-color: #f0f8ff;}#sk-container-id-1 input.sk-toggleable__control:checked~div.sk-toggleable__content {max-height: 200px;max-width: 100%;overflow: auto;}#sk-container-id-1 input.sk-toggleable__control:checked~label.sk-toggleable__label-arrow:before {content: \"▾\";}#sk-container-id-1 div.sk-estimator input.sk-toggleable__control:checked~label.sk-toggleable__label {background-color: #d4ebff;}#sk-container-id-1 div.sk-label input.sk-toggleable__control:checked~label.sk-toggleable__label {background-color: #d4ebff;}#sk-container-id-1 input.sk-hidden--visually {border: 0;clip: rect(1px 1px 1px 1px);clip: rect(1px, 1px, 1px, 1px);height: 1px;margin: -1px;overflow: hidden;padding: 0;position: absolute;width: 1px;}#sk-container-id-1 div.sk-estimator {font-family: monospace;background-color: #f0f8ff;border: 1px dotted black;border-radius: 0.25em;box-sizing: border-box;margin-bottom: 0.5em;}#sk-container-id-1 div.sk-estimator:hover {background-color: #d4ebff;}#sk-container-id-1 div.sk-parallel-item::after {content: \"\";width: 100%;border-bottom: 1px solid gray;flex-grow: 1;}#sk-container-id-1 div.sk-label:hover label.sk-toggleable__label {background-color: #d4ebff;}#sk-container-id-1 div.sk-serial::before {content: \"\";position: absolute;border-left: 1px solid gray;box-sizing: border-box;top: 0;bottom: 0;left: 50%;z-index: 0;}#sk-container-id-1 div.sk-serial {display: flex;flex-direction: column;align-items: center;background-color: white;padding-right: 0.2em;padding-left: 0.2em;position: relative;}#sk-container-id-1 div.sk-item {position: relative;z-index: 1;}#sk-container-id-1 div.sk-parallel {display: flex;align-items: stretch;justify-content: center;background-color: white;position: relative;}#sk-container-id-1 div.sk-item::before, #sk-container-id-1 div.sk-parallel-item::before {content: \"\";position: absolute;border-left: 1px solid gray;box-sizing: border-box;top: 0;bottom: 0;left: 50%;z-index: -1;}#sk-container-id-1 div.sk-parallel-item {display: flex;flex-direction: column;z-index: 1;position: relative;background-color: white;}#sk-container-id-1 div.sk-parallel-item:first-child::after {align-self: flex-end;width: 50%;}#sk-container-id-1 div.sk-parallel-item:last-child::after {align-self: flex-start;width: 50%;}#sk-container-id-1 div.sk-parallel-item:only-child::after {width: 0;}#sk-container-id-1 div.sk-dashed-wrapped {border: 1px dashed gray;margin: 0 0.4em 0.5em 0.4em;box-sizing: border-box;padding-bottom: 0.4em;background-color: white;}#sk-container-id-1 div.sk-label label {font-family: monospace;font-weight: bold;display: inline-block;line-height: 1.2em;}#sk-container-id-1 div.sk-label-container {text-align: center;}#sk-container-id-1 div.sk-container {/* jupyter's `normalize.less` sets `[hidden] { display: none; }` but bootstrap.min.css set `[hidden] { display: none !important; }` so we also need the `!important` here to be able to override the default hidden behavior on the sphinx rendered scikit-learn.org. See: https://github.com/scikit-learn/scikit-learn/issues/21755 */display: inline-block !important;position: relative;}#sk-container-id-1 div.sk-text-repr-fallback {display: none;}</style><div id=\"sk-container-id-1\" class=\"sk-top-container\"><div class=\"sk-text-repr-fallback\"><pre>KNeighborsClassifier()</pre><b>In a Jupyter environment, please rerun this cell to show the HTML representation or trust the notebook. <br />On GitHub, the HTML representation is unable to render, please try loading this page with nbviewer.org.</b></div><div class=\"sk-container\" hidden><div class=\"sk-item\"><div class=\"sk-estimator sk-toggleable\"><input class=\"sk-toggleable__control sk-hidden--visually\" id=\"sk-estimator-id-1\" type=\"checkbox\" checked><label for=\"sk-estimator-id-1\" class=\"sk-toggleable__label sk-toggleable__label-arrow\">KNeighborsClassifier</label><div class=\"sk-toggleable__content\"><pre>KNeighborsClassifier()</pre></div></div></div></div></div>"
      ],
      "text/plain": [
       "KNeighborsClassifier()"
      ]
     },
     "execution_count": 13,
     "metadata": {},
     "output_type": "execute_result"
    }
   ],
   "source": [
    "model1.fit(x_train,y_train)"
   ]
  },
  {
   "cell_type": "code",
   "execution_count": 14,
   "id": "0ee3cfda",
   "metadata": {
    "_cell_guid": "c03e2cce-2509-4fe5-b264-ef79090e44fa",
    "_uuid": "8f528d89-fdcb-4f03-9c8a-ba3b701e9ea7",
    "collapsed": false,
    "execution": {
     "iopub.execute_input": "2023-11-04T12:46:12.876185Z",
     "iopub.status.busy": "2023-11-04T12:46:12.875058Z",
     "iopub.status.idle": "2023-11-04T12:46:12.898810Z",
     "shell.execute_reply": "2023-11-04T12:46:12.897535Z"
    },
    "jupyter": {
     "outputs_hidden": false
    },
    "papermill": {
     "duration": 0.039219,
     "end_time": "2023-11-04T12:46:12.901853",
     "exception": false,
     "start_time": "2023-11-04T12:46:12.862634",
     "status": "completed"
    },
    "tags": []
   },
   "outputs": [
    {
     "name": "stdout",
     "output_type": "stream",
     "text": [
      "Accuracy :  82.0\n"
     ]
    }
   ],
   "source": [
    "print(\"Accuracy : \",model1.score(x_test,y_test) * 100)"
   ]
  }
 ],
 "metadata": {
  "kernelspec": {
   "display_name": "Python 3",
   "language": "python",
   "name": "python3"
  },
  "language_info": {
   "codemirror_mode": {
    "name": "ipython",
    "version": 3
   },
   "file_extension": ".py",
   "mimetype": "text/x-python",
   "name": "python",
   "nbconvert_exporter": "python",
   "pygments_lexer": "ipython3",
   "version": "3.10.12"
  },
  "papermill": {
   "default_parameters": {},
   "duration": 10.146267,
   "end_time": "2023-11-04T12:46:13.635128",
   "environment_variables": {},
   "exception": null,
   "input_path": "__notebook__.ipynb",
   "output_path": "__notebook__.ipynb",
   "parameters": {},
   "start_time": "2023-11-04T12:46:03.488861",
   "version": "2.4.0"
  }
 },
 "nbformat": 4,
 "nbformat_minor": 5
}
