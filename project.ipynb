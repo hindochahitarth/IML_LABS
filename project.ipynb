{
 "cells": [
  {
   "cell_type": "markdown",
   "id": "f71e7167",
   "metadata": {
    "papermill": {
     "duration": 0.008904,
     "end_time": "2023-11-04T11:15:06.957251",
     "exception": false,
     "start_time": "2023-11-04T11:15:06.948347",
     "status": "completed"
    },
    "tags": []
   },
   "source": [
    "# **IRIS FLOWER CLASSIFICATION**"
   ]
  },
  {
   "cell_type": "markdown",
   "id": "4f15a834",
   "metadata": {
    "papermill": {
     "duration": 0.008155,
     "end_time": "2023-11-04T11:15:06.973992",
     "exception": false,
     "start_time": "2023-11-04T11:15:06.965837",
     "status": "completed"
    },
    "tags": []
   },
   "source": [
    "# Dataset Information\n",
    "\n",
    "**The dataset contains 3 classes of 50 instances(rows) each ,where each class refers to a type of iris plant.One class is linearly separable from the other 2;the latter are not linearly separable from each other.** \n",
    "\n",
    "**Attribute information :**\n",
    "\n",
    "\n",
    "**1.sepal length in cm** \n",
    "\n",
    "**2.sepal width in cm** \n",
    "\n",
    "**3.petal length in cm** \n",
    "\n",
    "**4.petal length in cm** \n",
    "\n",
    "**5.class:- Iris Setosa - Iris Versicolur -Iris Virginica** "
   ]
  },
  {
   "cell_type": "markdown",
   "id": "5a249966",
   "metadata": {
    "papermill": {
     "duration": 0.008077,
     "end_time": "2023-11-04T11:15:06.991293",
     "exception": false,
     "start_time": "2023-11-04T11:15:06.983216",
     "status": "completed"
    },
    "tags": []
   },
   "source": [
    "# **Importing Modules**"
   ]
  },
  {
   "cell_type": "code",
   "execution_count": 1,
   "id": "78ba112e",
   "metadata": {
    "execution": {
     "iopub.execute_input": "2023-11-04T11:15:07.011020Z",
     "iopub.status.busy": "2023-11-04T11:15:07.010238Z",
     "iopub.status.idle": "2023-11-04T11:15:08.754024Z",
     "shell.execute_reply": "2023-11-04T11:15:08.752949Z"
    },
    "papermill": {
     "duration": 1.756328,
     "end_time": "2023-11-04T11:15:08.756556",
     "exception": false,
     "start_time": "2023-11-04T11:15:07.000228",
     "status": "completed"
    },
    "tags": []
   },
   "outputs": [],
   "source": [
    "# importing necessary libraries\n",
    "\n",
    "import numpy as np\n",
    "import pandas as pd\n",
    "import matplotlib.pyplot as plt\n",
    "import seaborn as sns"
   ]
  },
  {
   "cell_type": "markdown",
   "id": "c896826f",
   "metadata": {
    "papermill": {
     "duration": 0.008119,
     "end_time": "2023-11-04T11:15:08.773244",
     "exception": false,
     "start_time": "2023-11-04T11:15:08.765125",
     "status": "completed"
    },
    "tags": []
   },
   "source": [
    "# **Loading Dataset**"
   ]
  },
  {
   "cell_type": "code",
   "execution_count": 2,
   "id": "fa95b9e0",
   "metadata": {
    "execution": {
     "iopub.execute_input": "2023-11-04T11:15:08.791718Z",
     "iopub.status.busy": "2023-11-04T11:15:08.791216Z",
     "iopub.status.idle": "2023-11-04T11:15:08.832578Z",
     "shell.execute_reply": "2023-11-04T11:15:08.831473Z"
    },
    "papermill": {
     "duration": 0.053251,
     "end_time": "2023-11-04T11:15:08.834926",
     "exception": false,
     "start_time": "2023-11-04T11:15:08.781675",
     "status": "completed"
    },
    "tags": []
   },
   "outputs": [
    {
     "data": {
      "text/html": [
       "<div>\n",
       "<style scoped>\n",
       "    .dataframe tbody tr th:only-of-type {\n",
       "        vertical-align: middle;\n",
       "    }\n",
       "\n",
       "    .dataframe tbody tr th {\n",
       "        vertical-align: top;\n",
       "    }\n",
       "\n",
       "    .dataframe thead th {\n",
       "        text-align: right;\n",
       "    }\n",
       "</style>\n",
       "<table border=\"1\" class=\"dataframe\">\n",
       "  <thead>\n",
       "    <tr style=\"text-align: right;\">\n",
       "      <th></th>\n",
       "      <th>Id</th>\n",
       "      <th>SepalLengthCm</th>\n",
       "      <th>SepalWidthCm</th>\n",
       "      <th>PetalLengthCm</th>\n",
       "      <th>PetalWidthCm</th>\n",
       "      <th>Species</th>\n",
       "    </tr>\n",
       "  </thead>\n",
       "  <tbody>\n",
       "    <tr>\n",
       "      <th>0</th>\n",
       "      <td>1</td>\n",
       "      <td>5.1</td>\n",
       "      <td>3.5</td>\n",
       "      <td>1.4</td>\n",
       "      <td>0.2</td>\n",
       "      <td>Iris-setosa</td>\n",
       "    </tr>\n",
       "    <tr>\n",
       "      <th>1</th>\n",
       "      <td>2</td>\n",
       "      <td>4.9</td>\n",
       "      <td>3.0</td>\n",
       "      <td>1.4</td>\n",
       "      <td>0.2</td>\n",
       "      <td>Iris-setosa</td>\n",
       "    </tr>\n",
       "    <tr>\n",
       "      <th>2</th>\n",
       "      <td>3</td>\n",
       "      <td>4.7</td>\n",
       "      <td>3.2</td>\n",
       "      <td>1.3</td>\n",
       "      <td>0.2</td>\n",
       "      <td>Iris-setosa</td>\n",
       "    </tr>\n",
       "    <tr>\n",
       "      <th>3</th>\n",
       "      <td>4</td>\n",
       "      <td>4.6</td>\n",
       "      <td>3.1</td>\n",
       "      <td>1.5</td>\n",
       "      <td>0.2</td>\n",
       "      <td>Iris-setosa</td>\n",
       "    </tr>\n",
       "    <tr>\n",
       "      <th>4</th>\n",
       "      <td>5</td>\n",
       "      <td>5.0</td>\n",
       "      <td>3.6</td>\n",
       "      <td>1.4</td>\n",
       "      <td>0.2</td>\n",
       "      <td>Iris-setosa</td>\n",
       "    </tr>\n",
       "  </tbody>\n",
       "</table>\n",
       "</div>"
      ],
      "text/plain": [
       "   Id  SepalLengthCm  SepalWidthCm  PetalLengthCm  PetalWidthCm      Species\n",
       "0   1            5.1           3.5            1.4           0.2  Iris-setosa\n",
       "1   2            4.9           3.0            1.4           0.2  Iris-setosa\n",
       "2   3            4.7           3.2            1.3           0.2  Iris-setosa\n",
       "3   4            4.6           3.1            1.5           0.2  Iris-setosa\n",
       "4   5            5.0           3.6            1.4           0.2  Iris-setosa"
      ]
     },
     "execution_count": 2,
     "metadata": {},
     "output_type": "execute_result"
    }
   ],
   "source": [
    "Iris_df=pd.read_csv('/kaggle/input/iris/Iris.csv') # Reading csv file \n",
    "Iris_df.head() # Printing first 5 rows"
   ]
  },
  {
   "cell_type": "markdown",
   "id": "8227690b",
   "metadata": {
    "papermill": {
     "duration": 0.008231,
     "end_time": "2023-11-04T11:15:08.852106",
     "exception": false,
     "start_time": "2023-11-04T11:15:08.843875",
     "status": "completed"
    },
    "tags": []
   },
   "source": [
    "# **Inspecting Data using shape() and info()**"
   ]
  },
  {
   "cell_type": "code",
   "execution_count": 3,
   "id": "61a45389",
   "metadata": {
    "execution": {
     "iopub.execute_input": "2023-11-04T11:15:08.870887Z",
     "iopub.status.busy": "2023-11-04T11:15:08.870497Z",
     "iopub.status.idle": "2023-11-04T11:15:08.882543Z",
     "shell.execute_reply": "2023-11-04T11:15:08.881494Z"
    },
    "papermill": {
     "duration": 0.024834,
     "end_time": "2023-11-04T11:15:08.885484",
     "exception": false,
     "start_time": "2023-11-04T11:15:08.860650",
     "status": "completed"
    },
    "tags": []
   },
   "outputs": [
    {
     "name": "stdout",
     "output_type": "stream",
     "text": [
      "Shape is : (150, 6) \n",
      "\n",
      "<bound method DataFrame.info of       Id  SepalLengthCm  SepalWidthCm  PetalLengthCm  PetalWidthCm  \\\n",
      "0      1            5.1           3.5            1.4           0.2   \n",
      "1      2            4.9           3.0            1.4           0.2   \n",
      "2      3            4.7           3.2            1.3           0.2   \n",
      "3      4            4.6           3.1            1.5           0.2   \n",
      "4      5            5.0           3.6            1.4           0.2   \n",
      "..   ...            ...           ...            ...           ...   \n",
      "145  146            6.7           3.0            5.2           2.3   \n",
      "146  147            6.3           2.5            5.0           1.9   \n",
      "147  148            6.5           3.0            5.2           2.0   \n",
      "148  149            6.2           3.4            5.4           2.3   \n",
      "149  150            5.9           3.0            5.1           1.8   \n",
      "\n",
      "            Species  \n",
      "0       Iris-setosa  \n",
      "1       Iris-setosa  \n",
      "2       Iris-setosa  \n",
      "3       Iris-setosa  \n",
      "4       Iris-setosa  \n",
      "..              ...  \n",
      "145  Iris-virginica  \n",
      "146  Iris-virginica  \n",
      "147  Iris-virginica  \n",
      "148  Iris-virginica  \n",
      "149  Iris-virginica  \n",
      "\n",
      "[150 rows x 6 columns]>\n"
     ]
    }
   ],
   "source": [
    "print (\"Shape is :\",Iris_df.shape,\"\\n\") # Printing shape (rows,columns)\n",
    "print(Iris_df.info)"
   ]
  },
  {
   "cell_type": "code",
   "execution_count": 4,
   "id": "fb7b29c6",
   "metadata": {
    "execution": {
     "iopub.execute_input": "2023-11-04T11:15:08.905195Z",
     "iopub.status.busy": "2023-11-04T11:15:08.904844Z",
     "iopub.status.idle": "2023-11-04T11:15:08.923319Z",
     "shell.execute_reply": "2023-11-04T11:15:08.922485Z"
    },
    "papermill": {
     "duration": 0.030514,
     "end_time": "2023-11-04T11:15:08.925226",
     "exception": false,
     "start_time": "2023-11-04T11:15:08.894712",
     "status": "completed"
    },
    "tags": []
   },
   "outputs": [
    {
     "data": {
      "text/html": [
       "<div>\n",
       "<style scoped>\n",
       "    .dataframe tbody tr th:only-of-type {\n",
       "        vertical-align: middle;\n",
       "    }\n",
       "\n",
       "    .dataframe tbody tr th {\n",
       "        vertical-align: top;\n",
       "    }\n",
       "\n",
       "    .dataframe thead th {\n",
       "        text-align: right;\n",
       "    }\n",
       "</style>\n",
       "<table border=\"1\" class=\"dataframe\">\n",
       "  <thead>\n",
       "    <tr style=\"text-align: right;\">\n",
       "      <th></th>\n",
       "      <th>SepalLengthCm</th>\n",
       "      <th>SepalWidthCm</th>\n",
       "      <th>PetalLengthCm</th>\n",
       "      <th>PetalWidthCm</th>\n",
       "      <th>Species</th>\n",
       "    </tr>\n",
       "  </thead>\n",
       "  <tbody>\n",
       "    <tr>\n",
       "      <th>0</th>\n",
       "      <td>5.1</td>\n",
       "      <td>3.5</td>\n",
       "      <td>1.4</td>\n",
       "      <td>0.2</td>\n",
       "      <td>Iris-setosa</td>\n",
       "    </tr>\n",
       "    <tr>\n",
       "      <th>1</th>\n",
       "      <td>4.9</td>\n",
       "      <td>3.0</td>\n",
       "      <td>1.4</td>\n",
       "      <td>0.2</td>\n",
       "      <td>Iris-setosa</td>\n",
       "    </tr>\n",
       "    <tr>\n",
       "      <th>2</th>\n",
       "      <td>4.7</td>\n",
       "      <td>3.2</td>\n",
       "      <td>1.3</td>\n",
       "      <td>0.2</td>\n",
       "      <td>Iris-setosa</td>\n",
       "    </tr>\n",
       "    <tr>\n",
       "      <th>3</th>\n",
       "      <td>4.6</td>\n",
       "      <td>3.1</td>\n",
       "      <td>1.5</td>\n",
       "      <td>0.2</td>\n",
       "      <td>Iris-setosa</td>\n",
       "    </tr>\n",
       "    <tr>\n",
       "      <th>4</th>\n",
       "      <td>5.0</td>\n",
       "      <td>3.6</td>\n",
       "      <td>1.4</td>\n",
       "      <td>0.2</td>\n",
       "      <td>Iris-setosa</td>\n",
       "    </tr>\n",
       "  </tbody>\n",
       "</table>\n",
       "</div>"
      ],
      "text/plain": [
       "   SepalLengthCm  SepalWidthCm  PetalLengthCm  PetalWidthCm      Species\n",
       "0            5.1           3.5            1.4           0.2  Iris-setosa\n",
       "1            4.9           3.0            1.4           0.2  Iris-setosa\n",
       "2            4.7           3.2            1.3           0.2  Iris-setosa\n",
       "3            4.6           3.1            1.5           0.2  Iris-setosa\n",
       "4            5.0           3.6            1.4           0.2  Iris-setosa"
      ]
     },
     "execution_count": 4,
     "metadata": {},
     "output_type": "execute_result"
    }
   ],
   "source": [
    "# deleting a column\n",
    "\n",
    "Iris_df=Iris_df.drop(columns=['Id'])\n",
    "Iris_df.head()"
   ]
  },
  {
   "cell_type": "code",
   "execution_count": 5,
   "id": "321fe21f",
   "metadata": {
    "execution": {
     "iopub.execute_input": "2023-11-04T11:15:08.944335Z",
     "iopub.status.busy": "2023-11-04T11:15:08.943977Z",
     "iopub.status.idle": "2023-11-04T11:15:08.967202Z",
     "shell.execute_reply": "2023-11-04T11:15:08.966145Z"
    },
    "papermill": {
     "duration": 0.035389,
     "end_time": "2023-11-04T11:15:08.969446",
     "exception": false,
     "start_time": "2023-11-04T11:15:08.934057",
     "status": "completed"
    },
    "tags": []
   },
   "outputs": [
    {
     "data": {
      "text/html": [
       "<div>\n",
       "<style scoped>\n",
       "    .dataframe tbody tr th:only-of-type {\n",
       "        vertical-align: middle;\n",
       "    }\n",
       "\n",
       "    .dataframe tbody tr th {\n",
       "        vertical-align: top;\n",
       "    }\n",
       "\n",
       "    .dataframe thead th {\n",
       "        text-align: right;\n",
       "    }\n",
       "</style>\n",
       "<table border=\"1\" class=\"dataframe\">\n",
       "  <thead>\n",
       "    <tr style=\"text-align: right;\">\n",
       "      <th></th>\n",
       "      <th>SepalLengthCm</th>\n",
       "      <th>SepalWidthCm</th>\n",
       "      <th>PetalLengthCm</th>\n",
       "      <th>PetalWidthCm</th>\n",
       "    </tr>\n",
       "  </thead>\n",
       "  <tbody>\n",
       "    <tr>\n",
       "      <th>count</th>\n",
       "      <td>150.000000</td>\n",
       "      <td>150.000000</td>\n",
       "      <td>150.000000</td>\n",
       "      <td>150.000000</td>\n",
       "    </tr>\n",
       "    <tr>\n",
       "      <th>mean</th>\n",
       "      <td>5.843333</td>\n",
       "      <td>3.054000</td>\n",
       "      <td>3.758667</td>\n",
       "      <td>1.198667</td>\n",
       "    </tr>\n",
       "    <tr>\n",
       "      <th>std</th>\n",
       "      <td>0.828066</td>\n",
       "      <td>0.433594</td>\n",
       "      <td>1.764420</td>\n",
       "      <td>0.763161</td>\n",
       "    </tr>\n",
       "    <tr>\n",
       "      <th>min</th>\n",
       "      <td>4.300000</td>\n",
       "      <td>2.000000</td>\n",
       "      <td>1.000000</td>\n",
       "      <td>0.100000</td>\n",
       "    </tr>\n",
       "    <tr>\n",
       "      <th>25%</th>\n",
       "      <td>5.100000</td>\n",
       "      <td>2.800000</td>\n",
       "      <td>1.600000</td>\n",
       "      <td>0.300000</td>\n",
       "    </tr>\n",
       "    <tr>\n",
       "      <th>50%</th>\n",
       "      <td>5.800000</td>\n",
       "      <td>3.000000</td>\n",
       "      <td>4.350000</td>\n",
       "      <td>1.300000</td>\n",
       "    </tr>\n",
       "    <tr>\n",
       "      <th>75%</th>\n",
       "      <td>6.400000</td>\n",
       "      <td>3.300000</td>\n",
       "      <td>5.100000</td>\n",
       "      <td>1.800000</td>\n",
       "    </tr>\n",
       "    <tr>\n",
       "      <th>max</th>\n",
       "      <td>7.900000</td>\n",
       "      <td>4.400000</td>\n",
       "      <td>6.900000</td>\n",
       "      <td>2.500000</td>\n",
       "    </tr>\n",
       "  </tbody>\n",
       "</table>\n",
       "</div>"
      ],
      "text/plain": [
       "       SepalLengthCm  SepalWidthCm  PetalLengthCm  PetalWidthCm\n",
       "count     150.000000    150.000000     150.000000    150.000000\n",
       "mean        5.843333      3.054000       3.758667      1.198667\n",
       "std         0.828066      0.433594       1.764420      0.763161\n",
       "min         4.300000      2.000000       1.000000      0.100000\n",
       "25%         5.100000      2.800000       1.600000      0.300000\n",
       "50%         5.800000      3.000000       4.350000      1.300000\n",
       "75%         6.400000      3.300000       5.100000      1.800000\n",
       "max         7.900000      4.400000       6.900000      2.500000"
      ]
     },
     "execution_count": 5,
     "metadata": {},
     "output_type": "execute_result"
    }
   ],
   "source": [
    "# display statistics of data\n",
    "\n",
    "Iris_df.describe()"
   ]
  },
  {
   "cell_type": "code",
   "execution_count": 6,
   "id": "235820e4",
   "metadata": {
    "execution": {
     "iopub.execute_input": "2023-11-04T11:15:08.989929Z",
     "iopub.status.busy": "2023-11-04T11:15:08.988849Z",
     "iopub.status.idle": "2023-11-04T11:15:09.010993Z",
     "shell.execute_reply": "2023-11-04T11:15:09.009933Z"
    },
    "papermill": {
     "duration": 0.034604,
     "end_time": "2023-11-04T11:15:09.013209",
     "exception": false,
     "start_time": "2023-11-04T11:15:08.978605",
     "status": "completed"
    },
    "tags": []
   },
   "outputs": [
    {
     "name": "stdout",
     "output_type": "stream",
     "text": [
      "<class 'pandas.core.frame.DataFrame'>\n",
      "RangeIndex: 150 entries, 0 to 149\n",
      "Data columns (total 5 columns):\n",
      " #   Column         Non-Null Count  Dtype  \n",
      "---  ------         --------------  -----  \n",
      " 0   SepalLengthCm  150 non-null    float64\n",
      " 1   SepalWidthCm   150 non-null    float64\n",
      " 2   PetalLengthCm  150 non-null    float64\n",
      " 3   PetalWidthCm   150 non-null    float64\n",
      " 4   Species        150 non-null    object \n",
      "dtypes: float64(4), object(1)\n",
      "memory usage: 6.0+ KB\n"
     ]
    }
   ],
   "source": [
    "# basic info about the data\n",
    "Iris_df.info()"
   ]
  },
  {
   "cell_type": "code",
   "execution_count": 7,
   "id": "77546867",
   "metadata": {
    "execution": {
     "iopub.execute_input": "2023-11-04T11:15:09.033004Z",
     "iopub.status.busy": "2023-11-04T11:15:09.032666Z",
     "iopub.status.idle": "2023-11-04T11:15:09.039907Z",
     "shell.execute_reply": "2023-11-04T11:15:09.038969Z"
    },
    "papermill": {
     "duration": 0.019612,
     "end_time": "2023-11-04T11:15:09.041920",
     "exception": false,
     "start_time": "2023-11-04T11:15:09.022308",
     "status": "completed"
    },
    "tags": []
   },
   "outputs": [
    {
     "data": {
      "text/plain": [
       "Species\n",
       "Iris-setosa        50\n",
       "Iris-versicolor    50\n",
       "Iris-virginica     50\n",
       "Name: count, dtype: int64"
      ]
     },
     "execution_count": 7,
     "metadata": {},
     "output_type": "execute_result"
    }
   ],
   "source": [
    "# to display no.of samples on each class\n",
    "Iris_df['Species'].value_counts()"
   ]
  },
  {
   "cell_type": "markdown",
   "id": "035db19e",
   "metadata": {
    "papermill": {
     "duration": 0.008865,
     "end_time": "2023-11-04T11:15:09.060069",
     "exception": false,
     "start_time": "2023-11-04T11:15:09.051204",
     "status": "completed"
    },
    "tags": []
   },
   "source": [
    "# Preprocessing the dataset"
   ]
  },
  {
   "cell_type": "code",
   "execution_count": 8,
   "id": "d5730ae5",
   "metadata": {
    "execution": {
     "iopub.execute_input": "2023-11-04T11:15:09.080184Z",
     "iopub.status.busy": "2023-11-04T11:15:09.079458Z",
     "iopub.status.idle": "2023-11-04T11:15:09.092536Z",
     "shell.execute_reply": "2023-11-04T11:15:09.091819Z"
    },
    "papermill": {
     "duration": 0.025026,
     "end_time": "2023-11-04T11:15:09.094303",
     "exception": false,
     "start_time": "2023-11-04T11:15:09.069277",
     "status": "completed"
    },
    "tags": []
   },
   "outputs": [
    {
     "data": {
      "text/html": [
       "<div>\n",
       "<style scoped>\n",
       "    .dataframe tbody tr th:only-of-type {\n",
       "        vertical-align: middle;\n",
       "    }\n",
       "\n",
       "    .dataframe tbody tr th {\n",
       "        vertical-align: top;\n",
       "    }\n",
       "\n",
       "    .dataframe thead th {\n",
       "        text-align: right;\n",
       "    }\n",
       "</style>\n",
       "<table border=\"1\" class=\"dataframe\">\n",
       "  <thead>\n",
       "    <tr style=\"text-align: right;\">\n",
       "      <th></th>\n",
       "      <th>SepalLengthCm</th>\n",
       "      <th>SepalWidthCm</th>\n",
       "      <th>PetalLengthCm</th>\n",
       "      <th>PetalWidthCm</th>\n",
       "      <th>Species</th>\n",
       "    </tr>\n",
       "  </thead>\n",
       "  <tbody>\n",
       "    <tr>\n",
       "      <th>0</th>\n",
       "      <td>5.1</td>\n",
       "      <td>3.5</td>\n",
       "      <td>1.4</td>\n",
       "      <td>0.2</td>\n",
       "      <td>Iris-setosa</td>\n",
       "    </tr>\n",
       "    <tr>\n",
       "      <th>1</th>\n",
       "      <td>4.9</td>\n",
       "      <td>3.0</td>\n",
       "      <td>1.4</td>\n",
       "      <td>0.2</td>\n",
       "      <td>Iris-setosa</td>\n",
       "    </tr>\n",
       "    <tr>\n",
       "      <th>2</th>\n",
       "      <td>4.7</td>\n",
       "      <td>3.2</td>\n",
       "      <td>1.3</td>\n",
       "      <td>0.2</td>\n",
       "      <td>Iris-setosa</td>\n",
       "    </tr>\n",
       "    <tr>\n",
       "      <th>3</th>\n",
       "      <td>4.6</td>\n",
       "      <td>3.1</td>\n",
       "      <td>1.5</td>\n",
       "      <td>0.2</td>\n",
       "      <td>Iris-setosa</td>\n",
       "    </tr>\n",
       "    <tr>\n",
       "      <th>4</th>\n",
       "      <td>5.0</td>\n",
       "      <td>3.6</td>\n",
       "      <td>1.4</td>\n",
       "      <td>0.2</td>\n",
       "      <td>Iris-setosa</td>\n",
       "    </tr>\n",
       "  </tbody>\n",
       "</table>\n",
       "</div>"
      ],
      "text/plain": [
       "   SepalLengthCm  SepalWidthCm  PetalLengthCm  PetalWidthCm      Species\n",
       "0            5.1           3.5            1.4           0.2  Iris-setosa\n",
       "1            4.9           3.0            1.4           0.2  Iris-setosa\n",
       "2            4.7           3.2            1.3           0.2  Iris-setosa\n",
       "3            4.6           3.1            1.5           0.2  Iris-setosa\n",
       "4            5.0           3.6            1.4           0.2  Iris-setosa"
      ]
     },
     "execution_count": 8,
     "metadata": {},
     "output_type": "execute_result"
    }
   ],
   "source": [
    "# checking for null values\n",
    "\n",
    "Iris_df.isnull().sum()\n",
    "Iris_df.head()"
   ]
  },
  {
   "cell_type": "markdown",
   "id": "2103ba97",
   "metadata": {
    "papermill": {
     "duration": 0.008999,
     "end_time": "2023-11-04T11:15:09.112628",
     "exception": false,
     "start_time": "2023-11-04T11:15:09.103629",
     "status": "completed"
    },
    "tags": []
   },
   "source": [
    "# Exploring Data"
   ]
  },
  {
   "cell_type": "code",
   "execution_count": 9,
   "id": "5ec70909",
   "metadata": {
    "execution": {
     "iopub.execute_input": "2023-11-04T11:15:09.133370Z",
     "iopub.status.busy": "2023-11-04T11:15:09.132514Z",
     "iopub.status.idle": "2023-11-04T11:15:09.436179Z",
     "shell.execute_reply": "2023-11-04T11:15:09.435166Z"
    },
    "papermill": {
     "duration": 0.316575,
     "end_time": "2023-11-04T11:15:09.438451",
     "exception": false,
     "start_time": "2023-11-04T11:15:09.121876",
     "status": "completed"
    },
    "tags": []
   },
   "outputs": [
    {
     "data": {
      "text/plain": [
       "<Axes: >"
      ]
     },
     "execution_count": 9,
     "metadata": {},
     "output_type": "execute_result"
    },
    {
     "data": {
      "image/png": "[encoded data removed]",
      "text/plain": [
       "<Figure size 640x480 with 1 Axes>"
      ]
     },
     "metadata": {},
     "output_type": "display_data"
    }
   ],
   "source": [
    "# Creating Histogram for each column\n",
    "\n",
    "Iris_df['SepalLengthCm'].hist()"
   ]
  },
  {
   "cell_type": "code",
   "execution_count": 10,
   "id": "b1c794bc",
   "metadata": {
    "execution": {
     "iopub.execute_input": "2023-11-04T11:15:09.459542Z",
     "iopub.status.busy": "2023-11-04T11:15:09.459154Z",
     "iopub.status.idle": "2023-11-04T11:15:09.716392Z",
     "shell.execute_reply": "2023-11-04T11:15:09.715252Z"
    },
    "papermill": {
     "duration": 0.270705,
     "end_time": "2023-11-04T11:15:09.718878",
     "exception": false,
     "start_time": "2023-11-04T11:15:09.448173",
     "status": "completed"
    },
    "tags": []
   },
   "outputs": [
    {
     "data": {
      "text/plain": [
       "<Axes: >"
      ]
     },
     "execution_count": 10,
     "metadata": {},
     "output_type": "execute_result"
    },
    {
     "data": {
      "image/png": "[encoded data removed]",
      "text/plain": [
       "<Figure size 640x480 with 1 Axes>"
      ]
     },
     "metadata": {},
     "output_type": "display_data"
    }
   ],
   "source": [
    "\n",
    "Iris_df['SepalWidthCm'].hist()"
   ]
  },
  {
   "cell_type": "markdown",
   "id": "513d0b73",
   "metadata": {
    "papermill": {
     "duration": 0.009805,
     "end_time": "2023-11-04T11:15:09.739091",
     "exception": false,
     "start_time": "2023-11-04T11:15:09.729286",
     "status": "completed"
    },
    "tags": []
   },
   "source": []
  },
  {
   "cell_type": "code",
   "execution_count": 11,
   "id": "fa02db78",
   "metadata": {
    "execution": {
     "iopub.execute_input": "2023-11-04T11:15:09.761008Z",
     "iopub.status.busy": "2023-11-04T11:15:09.760647Z",
     "iopub.status.idle": "2023-11-04T11:15:10.025796Z",
     "shell.execute_reply": "2023-11-04T11:15:10.024729Z"
    },
    "papermill": {
     "duration": 0.278797,
     "end_time": "2023-11-04T11:15:10.028096",
     "exception": false,
     "start_time": "2023-11-04T11:15:09.749299",
     "status": "completed"
    },
    "tags": []
   },
   "outputs": [
    {
     "data": {
      "text/plain": [
       "<Axes: >"
      ]
     },
     "execution_count": 11,
     "metadata": {},
     "output_type": "execute_result"
    },
    {
     "data": {
      "image/png": "[encoded data removed]",
      "text/plain": [
       "<Figure size 640x480 with 1 Axes>"
      ]
     },
     "metadata": {},
     "output_type": "display_data"
    }
   ],
   "source": [
    "\n",
    "Iris_df['PetalLengthCm'].hist()"
   ]
  },
  {
   "cell_type": "code",
   "execution_count": 12,
   "id": "00b38ec0",
   "metadata": {
    "execution": {
     "iopub.execute_input": "2023-11-04T11:15:10.051292Z",
     "iopub.status.busy": "2023-11-04T11:15:10.050922Z",
     "iopub.status.idle": "2023-11-04T11:15:10.314596Z",
     "shell.execute_reply": "2023-11-04T11:15:10.313597Z"
    },
    "papermill": {
     "duration": 0.278185,
     "end_time": "2023-11-04T11:15:10.316916",
     "exception": false,
     "start_time": "2023-11-04T11:15:10.038731",
     "status": "completed"
    },
    "tags": []
   },
   "outputs": [
    {
     "data": {
      "text/plain": [
       "<Axes: >"
      ]
     },
     "execution_count": 12,
     "metadata": {},
     "output_type": "execute_result"
    },
    {
     "data": {
      "image/png": "[encoded data removed]",
      "text/plain": [
       "<Figure size 640x480 with 1 Axes>"
      ]
     },
     "metadata": {},
     "output_type": "display_data"
    }
   ],
   "source": [
    "\n",
    "Iris_df['PetalWidthCm'].hist()"
   ]
  },
  {
   "cell_type": "code",
   "execution_count": 13,
   "id": "294e9012",
   "metadata": {
    "execution": {
     "iopub.execute_input": "2023-11-04T11:15:10.341059Z",
     "iopub.status.busy": "2023-11-04T11:15:10.340698Z",
     "iopub.status.idle": "2023-11-04T11:15:10.345138Z",
     "shell.execute_reply": "2023-11-04T11:15:10.344146Z"
    },
    "papermill": {
     "duration": 0.019342,
     "end_time": "2023-11-04T11:15:10.347290",
     "exception": false,
     "start_time": "2023-11-04T11:15:10.327948",
     "status": "completed"
    },
    "tags": []
   },
   "outputs": [],
   "source": [
    "# Creating Scatter Plot\n",
    "\n",
    "colors=['orange','red','blue']\n",
    "species=['Iris-virginica','Iris-versicolor','Iris-setosa']"
   ]
  },
  {
   "cell_type": "code",
   "execution_count": 14,
   "id": "765524fa",
   "metadata": {
    "execution": {
     "iopub.execute_input": "2023-11-04T11:15:10.430846Z",
     "iopub.status.busy": "2023-11-04T11:15:10.430496Z",
     "iopub.status.idle": "2023-11-04T11:15:10.831172Z",
     "shell.execute_reply": "2023-11-04T11:15:10.830226Z"
    },
    "papermill": {
     "duration": 0.475103,
     "end_time": "2023-11-04T11:15:10.833699",
     "exception": false,
     "start_time": "2023-11-04T11:15:10.358596",
     "status": "completed"
    },
    "tags": []
   },
   "outputs": [
    {
     "data": {
      "text/plain": [
       "<matplotlib.legend.Legend at 0x7ab2aa5ccca0>"
      ]
     },
     "execution_count": 14,
     "metadata": {},
     "output_type": "execute_result"
    },
    {
     "data": {
      "image/png": "[encoded data removed]",
      "text/plain": [
       "<Figure size 640x480 with 1 Axes>"
      ]
     },
     "metadata": {},
     "output_type": "display_data"
    }
   ],
   "source": [
    "for i in range(3):\n",
    "    x=Iris_df[Iris_df['Species']==species[i]]\n",
    "    plt.scatter(x['SepalLengthCm'],x['SepalWidthCm'],c=colors[i],label=species[i])\n",
    "plt.xlabel(\"Sepal Length \")\n",
    "plt.ylabel(\"Sepal Width \")\n",
    "plt.legend()\n",
    "    \n",
    "    # y=x['SepalLengthCm']\n",
    "    # print(y)"
   ]
  },
  {
   "cell_type": "code",
   "execution_count": 15,
   "id": "5cf74097",
   "metadata": {
    "execution": {
     "iopub.execute_input": "2023-11-04T11:15:10.858531Z",
     "iopub.status.busy": "2023-11-04T11:15:10.858170Z",
     "iopub.status.idle": "2023-11-04T11:15:11.217238Z",
     "shell.execute_reply": "2023-11-04T11:15:11.216237Z"
    },
    "papermill": {
     "duration": 0.37403,
     "end_time": "2023-11-04T11:15:11.219598",
     "exception": false,
     "start_time": "2023-11-04T11:15:10.845568",
     "status": "completed"
    },
    "tags": []
   },
   "outputs": [
    {
     "data": {
      "text/plain": [
       "<matplotlib.legend.Legend at 0x7ab2aa5b3970>"
      ]
     },
     "execution_count": 15,
     "metadata": {},
     "output_type": "execute_result"
    },
    {
     "data": {
      "image/png": "[encoded data removed]",
      "text/plain": [
       "<Figure size 640x480 with 1 Axes>"
      ]
     },
     "metadata": {},
     "output_type": "display_data"
    }
   ],
   "source": [
    "for i in range(3):\n",
    "    x=Iris_df[Iris_df['Species']==species[i]]\n",
    "    plt.scatter(x['PetalLengthCm'],x['PetalWidthCm'],c=colors[i],label=species[i])\n",
    "plt.xlabel(\"Petal Length \")\n",
    "plt.ylabel(\"Petal Width \")\n",
    "plt.legend()\n",
    "    "
   ]
  },
  {
   "cell_type": "code",
   "execution_count": 16,
   "id": "8ac1b14d",
   "metadata": {
    "execution": {
     "iopub.execute_input": "2023-11-04T11:15:11.246098Z",
     "iopub.status.busy": "2023-11-04T11:15:11.245722Z",
     "iopub.status.idle": "2023-11-04T11:15:11.625833Z",
     "shell.execute_reply": "2023-11-04T11:15:11.624834Z"
    },
    "papermill": {
     "duration": 0.396001,
     "end_time": "2023-11-04T11:15:11.628269",
     "exception": false,
     "start_time": "2023-11-04T11:15:11.232268",
     "status": "completed"
    },
    "tags": []
   },
   "outputs": [
    {
     "data": {
      "text/plain": [
       "<matplotlib.legend.Legend at 0x7ab2aa46ebf0>"
      ]
     },
     "execution_count": 16,
     "metadata": {},
     "output_type": "execute_result"
    },
    {
     "data": {
      "image/png": "[encoded data removed]",
      "text/plain": [
       "<Figure size 640x480 with 1 Axes>"
      ]
     },
     "metadata": {},
     "output_type": "display_data"
    }
   ],
   "source": [
    "for i in range(3):\n",
    "    x=Iris_df[Iris_df['Species']==species[i]]\n",
    "    plt.scatter(x['SepalLengthCm'],x['PetalLengthCm'],c=colors[i],label=species[i])\n",
    "plt.xlabel(\"Sepal Length \")\n",
    "plt.ylabel(\"Petal Length \")\n",
    "plt.legend()\n",
    "    "
   ]
  },
  {
   "cell_type": "code",
   "execution_count": 17,
   "id": "8f8750cc",
   "metadata": {
    "execution": {
     "iopub.execute_input": "2023-11-04T11:15:11.655952Z",
     "iopub.status.busy": "2023-11-04T11:15:11.655052Z",
     "iopub.status.idle": "2023-11-04T11:15:12.009822Z",
     "shell.execute_reply": "2023-11-04T11:15:12.007897Z"
    },
    "papermill": {
     "duration": 0.370774,
     "end_time": "2023-11-04T11:15:12.011849",
     "exception": false,
     "start_time": "2023-11-04T11:15:11.641075",
     "status": "completed"
    },
    "tags": []
   },
   "outputs": [
    {
     "data": {
      "text/plain": [
       "<matplotlib.legend.Legend at 0x7ab2aa36ff70>"
      ]
     },
     "execution_count": 17,
     "metadata": {},
     "output_type": "execute_result"
    },
    {
     "data": {
      "image/png": "[encoded data removed]",
      "text/plain": [
       "<Figure size 640x480 with 1 Axes>"
      ]
     },
     "metadata": {},
     "output_type": "display_data"
    }
   ],
   "source": [
    "for i in range(3):\n",
    "    x=Iris_df[Iris_df['Species']==species[i]]\n",
    "    plt.scatter(x['SepalWidthCm'],x['PetalWidthCm'],c=colors[i],label=species[i])\n",
    "plt.xlabel(\"Sepal Width \")\n",
    "plt.ylabel(\"Petal Width \")\n",
    "plt.legend()\n",
    "    "
   ]
  },
  {
   "cell_type": "markdown",
   "id": "3d24c6cf",
   "metadata": {
    "papermill": {
     "duration": 0.013886,
     "end_time": "2023-11-04T11:15:12.039206",
     "exception": false,
     "start_time": "2023-11-04T11:15:12.025320",
     "status": "completed"
    },
    "tags": []
   },
   "source": [
    "# Label Encoder"
   ]
  },
  {
   "cell_type": "code",
   "execution_count": 18,
   "id": "7cc09e7a",
   "metadata": {
    "execution": {
     "iopub.execute_input": "2023-11-04T11:15:12.068285Z",
     "iopub.status.busy": "2023-11-04T11:15:12.067931Z",
     "iopub.status.idle": "2023-11-04T11:15:12.203270Z",
     "shell.execute_reply": "2023-11-04T11:15:12.202482Z"
    },
    "papermill": {
     "duration": 0.152726,
     "end_time": "2023-11-04T11:15:12.205547",
     "exception": false,
     "start_time": "2023-11-04T11:15:12.052821",
     "status": "completed"
    },
    "tags": []
   },
   "outputs": [],
   "source": [
    "from sklearn.preprocessing import LabelEncoder\n",
    "\n",
    "le=LabelEncoder()"
   ]
  },
  {
   "cell_type": "code",
   "execution_count": 19,
   "id": "2df63ba0",
   "metadata": {
    "execution": {
     "iopub.execute_input": "2023-11-04T11:15:12.233843Z",
     "iopub.status.busy": "2023-11-04T11:15:12.233415Z",
     "iopub.status.idle": "2023-11-04T11:15:12.246442Z",
     "shell.execute_reply": "2023-11-04T11:15:12.245680Z"
    },
    "papermill": {
     "duration": 0.029481,
     "end_time": "2023-11-04T11:15:12.248387",
     "exception": false,
     "start_time": "2023-11-04T11:15:12.218906",
     "status": "completed"
    },
    "tags": []
   },
   "outputs": [
    {
     "data": {
      "text/html": [
       "<div>\n",
       "<style scoped>\n",
       "    .dataframe tbody tr th:only-of-type {\n",
       "        vertical-align: middle;\n",
       "    }\n",
       "\n",
       "    .dataframe tbody tr th {\n",
       "        vertical-align: top;\n",
       "    }\n",
       "\n",
       "    .dataframe thead th {\n",
       "        text-align: right;\n",
       "    }\n",
       "</style>\n",
       "<table border=\"1\" class=\"dataframe\">\n",
       "  <thead>\n",
       "    <tr style=\"text-align: right;\">\n",
       "      <th></th>\n",
       "      <th>SepalLengthCm</th>\n",
       "      <th>SepalWidthCm</th>\n",
       "      <th>PetalLengthCm</th>\n",
       "      <th>PetalWidthCm</th>\n",
       "      <th>Species</th>\n",
       "    </tr>\n",
       "  </thead>\n",
       "  <tbody>\n",
       "    <tr>\n",
       "      <th>0</th>\n",
       "      <td>5.1</td>\n",
       "      <td>3.5</td>\n",
       "      <td>1.4</td>\n",
       "      <td>0.2</td>\n",
       "      <td>0</td>\n",
       "    </tr>\n",
       "    <tr>\n",
       "      <th>1</th>\n",
       "      <td>4.9</td>\n",
       "      <td>3.0</td>\n",
       "      <td>1.4</td>\n",
       "      <td>0.2</td>\n",
       "      <td>0</td>\n",
       "    </tr>\n",
       "    <tr>\n",
       "      <th>2</th>\n",
       "      <td>4.7</td>\n",
       "      <td>3.2</td>\n",
       "      <td>1.3</td>\n",
       "      <td>0.2</td>\n",
       "      <td>0</td>\n",
       "    </tr>\n",
       "    <tr>\n",
       "      <th>3</th>\n",
       "      <td>4.6</td>\n",
       "      <td>3.1</td>\n",
       "      <td>1.5</td>\n",
       "      <td>0.2</td>\n",
       "      <td>0</td>\n",
       "    </tr>\n",
       "    <tr>\n",
       "      <th>4</th>\n",
       "      <td>5.0</td>\n",
       "      <td>3.6</td>\n",
       "      <td>1.4</td>\n",
       "      <td>0.2</td>\n",
       "      <td>0</td>\n",
       "    </tr>\n",
       "  </tbody>\n",
       "</table>\n",
       "</div>"
      ],
      "text/plain": [
       "   SepalLengthCm  SepalWidthCm  PetalLengthCm  PetalWidthCm  Species\n",
       "0            5.1           3.5            1.4           0.2        0\n",
       "1            4.9           3.0            1.4           0.2        0\n",
       "2            4.7           3.2            1.3           0.2        0\n",
       "3            4.6           3.1            1.5           0.2        0\n",
       "4            5.0           3.6            1.4           0.2        0"
      ]
     },
     "execution_count": 19,
     "metadata": {},
     "output_type": "execute_result"
    }
   ],
   "source": [
    "Iris_df['Species']=le.fit_transform(Iris_df['Species'])\n",
    "Iris_df.head()"
   ]
  },
  {
   "cell_type": "markdown",
   "id": "662e1619",
   "metadata": {
    "papermill": {
     "duration": 0.01316,
     "end_time": "2023-11-04T11:15:12.274973",
     "exception": false,
     "start_time": "2023-11-04T11:15:12.261813",
     "status": "completed"
    },
    "tags": []
   },
   "source": [
    "# Coorelation Matrix"
   ]
  },
  {
   "cell_type": "code",
   "execution_count": 20,
   "id": "14381ef2",
   "metadata": {
    "execution": {
     "iopub.execute_input": "2023-11-04T11:15:12.303288Z",
     "iopub.status.busy": "2023-11-04T11:15:12.302891Z",
     "iopub.status.idle": "2023-11-04T11:15:12.697557Z",
     "shell.execute_reply": "2023-11-04T11:15:12.696449Z"
    },
    "papermill": {
     "duration": 0.411521,
     "end_time": "2023-11-04T11:15:12.699864",
     "exception": false,
     "start_time": "2023-11-04T11:15:12.288343",
     "status": "completed"
    },
    "tags": []
   },
   "outputs": [
    {
     "data": {
      "text/plain": [
       "<Axes: >"
      ]
     },
     "execution_count": 20,
     "metadata": {},
     "output_type": "execute_result"
    },
    {
     "data": {
      "image/png": "[encoded data removed]",
      "text/plain": [
       "<Figure size 500x400 with 2 Axes>"
      ]
     },
     "metadata": {},
     "output_type": "display_data"
    }
   ],
   "source": [
    "corr=Iris_df.corr()\n",
    "fig,ax=plt.subplots(figsize=(5,4))\n",
    "sns.heatmap(corr,annot=True,ax=ax,cmap='coolwarm')"
   ]
  },
  {
   "cell_type": "markdown",
   "id": "7d52b48a",
   "metadata": {
    "papermill": {
     "duration": 0.013922,
     "end_time": "2023-11-04T11:15:12.728136",
     "exception": false,
     "start_time": "2023-11-04T11:15:12.714214",
     "status": "completed"
    },
    "tags": []
   },
   "source": [
    "# Model Training"
   ]
  },
  {
   "cell_type": "code",
   "execution_count": 21,
   "id": "b739b229",
   "metadata": {
    "execution": {
     "iopub.execute_input": "2023-11-04T11:15:12.759629Z",
     "iopub.status.busy": "2023-11-04T11:15:12.758500Z",
     "iopub.status.idle": "2023-11-04T11:15:12.879515Z",
     "shell.execute_reply": "2023-11-04T11:15:12.878496Z"
    },
    "papermill": {
     "duration": 0.139607,
     "end_time": "2023-11-04T11:15:12.882085",
     "exception": false,
     "start_time": "2023-11-04T11:15:12.742478",
     "status": "completed"
    },
    "tags": []
   },
   "outputs": [],
   "source": [
    "from sklearn.model_selection import train_test_split\n",
    "\n",
    "# train - 70\n",
    "# test - 30\n",
    "\n",
    "X=Iris_df.drop(columns=['Species'])\n",
    "Y=Iris_df['Species']\n",
    "x_train,x_test,y_train,y_test=train_test_split(X,Y,train_size=0.70,test_size=0.30,random_state=100)"
   ]
  },
  {
   "cell_type": "code",
   "execution_count": 22,
   "id": "135eeaf1",
   "metadata": {
    "execution": {
     "iopub.execute_input": "2023-11-04T11:15:12.912851Z",
     "iopub.status.busy": "2023-11-04T11:15:12.912444Z",
     "iopub.status.idle": "2023-11-04T11:15:13.000000Z",
     "shell.execute_reply": "2023-11-04T11:15:12.999171Z"
    },
    "papermill": {
     "duration": 0.105554,
     "end_time": "2023-11-04T11:15:13.002420",
     "exception": false,
     "start_time": "2023-11-04T11:15:12.896866",
     "status": "completed"
    },
    "tags": []
   },
   "outputs": [],
   "source": [
    "# Importing Logistic Regression from sklearn\n",
    "\n",
    "from sklearn.linear_model import LogisticRegression\n",
    "model=LogisticRegression()\n"
   ]
  },
  {
   "cell_type": "code",
   "execution_count": 23,
   "id": "d70b3734",
   "metadata": {
    "execution": {
     "iopub.execute_input": "2023-11-04T11:15:13.033992Z",
     "iopub.status.busy": "2023-11-04T11:15:13.033599Z",
     "iopub.status.idle": "2023-11-04T11:15:13.076792Z",
     "shell.execute_reply": "2023-11-04T11:15:13.075387Z"
    },
    "papermill": {
     "duration": 0.061183,
     "end_time": "2023-11-04T11:15:13.078940",
     "exception": false,
     "start_time": "2023-11-04T11:15:13.017757",
     "status": "completed"
    },
    "tags": []
   },
   "outputs": [
    {
     "name": "stderr",
     "output_type": "stream",
     "text": [
      "/opt/conda/lib/python3.10/site-packages/sklearn/linear_model/_logistic.py:458: ConvergenceWarning: lbfgs failed to converge (status=1):\n",
      "STOP: TOTAL NO. of ITERATIONS REACHED LIMIT.\n",
      "\n",
      "Increase the number of iterations (max_iter) or scale the data as shown in:\n",
      "    https://scikit-learn.org/stable/modules/preprocessing.html\n",
      "Please also refer to the documentation for alternative solver options:\n",
      "    https://scikit-learn.org/stable/modules/linear_model.html#logistic-regression\n",
      "  n_iter_i = _check_optimize_result(\n"
     ]
    },
    {
     "data": {
      "text/html": [
       "<style>#sk-container-id-1 {color: black;background-color: white;}#sk-container-id-1 pre{padding: 0;}#sk-container-id-1 div.sk-toggleable {background-color: white;}#sk-container-id-1 label.sk-toggleable__label {cursor: pointer;display: block;width: 100%;margin-bottom: 0;padding: 0.3em;box-sizing: border-box;text-align: center;}#sk-container-id-1 label.sk-toggleable__label-arrow:before {content: \"▸\";float: left;margin-right: 0.25em;color: #696969;}#sk-container-id-1 label.sk-toggleable__label-arrow:hover:before {color: black;}#sk-container-id-1 div.sk-estimator:hover label.sk-toggleable__label-arrow:before {color: black;}#sk-container-id-1 div.sk-toggleable__content {max-height: 0;max-width: 0;overflow: hidden;text-align: left;background-color: #f0f8ff;}#sk-container-id-1 div.sk-toggleable__content pre {margin: 0.2em;color: black;border-radius: 0.25em;background-color: #f0f8ff;}#sk-container-id-1 input.sk-toggleable__control:checked~div.sk-toggleable__content {max-height: 200px;max-width: 100%;overflow: auto;}#sk-container-id-1 input.sk-toggleable__control:checked~label.sk-toggleable__label-arrow:before {content: \"▾\";}#sk-container-id-1 div.sk-estimator input.sk-toggleable__control:checked~label.sk-toggleable__label {background-color: #d4ebff;}#sk-container-id-1 div.sk-label input.sk-toggleable__control:checked~label.sk-toggleable__label {background-color: #d4ebff;}#sk-container-id-1 input.sk-hidden--visually {border: 0;clip: rect(1px 1px 1px 1px);clip: rect(1px, 1px, 1px, 1px);height: 1px;margin: -1px;overflow: hidden;padding: 0;position: absolute;width: 1px;}#sk-container-id-1 div.sk-estimator {font-family: monospace;background-color: #f0f8ff;border: 1px dotted black;border-radius: 0.25em;box-sizing: border-box;margin-bottom: 0.5em;}#sk-container-id-1 div.sk-estimator:hover {background-color: #d4ebff;}#sk-container-id-1 div.sk-parallel-item::after {content: \"\";width: 100%;border-bottom: 1px solid gray;flex-grow: 1;}#sk-container-id-1 div.sk-label:hover label.sk-toggleable__label {background-color: #d4ebff;}#sk-container-id-1 div.sk-serial::before {content: \"\";position: absolute;border-left: 1px solid gray;box-sizing: border-box;top: 0;bottom: 0;left: 50%;z-index: 0;}#sk-container-id-1 div.sk-serial {display: flex;flex-direction: column;align-items: center;background-color: white;padding-right: 0.2em;padding-left: 0.2em;position: relative;}#sk-container-id-1 div.sk-item {position: relative;z-index: 1;}#sk-container-id-1 div.sk-parallel {display: flex;align-items: stretch;justify-content: center;background-color: white;position: relative;}#sk-container-id-1 div.sk-item::before, #sk-container-id-1 div.sk-parallel-item::before {content: \"\";position: absolute;border-left: 1px solid gray;box-sizing: border-box;top: 0;bottom: 0;left: 50%;z-index: -1;}#sk-container-id-1 div.sk-parallel-item {display: flex;flex-direction: column;z-index: 1;position: relative;background-color: white;}#sk-container-id-1 div.sk-parallel-item:first-child::after {align-self: flex-end;width: 50%;}#sk-container-id-1 div.sk-parallel-item:last-child::after {align-self: flex-start;width: 50%;}#sk-container-id-1 div.sk-parallel-item:only-child::after {width: 0;}#sk-container-id-1 div.sk-dashed-wrapped {border: 1px dashed gray;margin: 0 0.4em 0.5em 0.4em;box-sizing: border-box;padding-bottom: 0.4em;background-color: white;}#sk-container-id-1 div.sk-label label {font-family: monospace;font-weight: bold;display: inline-block;line-height: 1.2em;}#sk-container-id-1 div.sk-label-container {text-align: center;}#sk-container-id-1 div.sk-container {/* jupyter's `normalize.less` sets `[hidden] { display: none; }` but bootstrap.min.css set `[hidden] { display: none !important; }` so we also need the `!important` here to be able to override the default hidden behavior on the sphinx rendered scikit-learn.org. See: https://github.com/scikit-learn/scikit-learn/issues/21755 */display: inline-block !important;position: relative;}#sk-container-id-1 div.sk-text-repr-fallback {display: none;}</style><div id=\"sk-container-id-1\" class=\"sk-top-container\"><div class=\"sk-text-repr-fallback\"><pre>LogisticRegression()</pre><b>In a Jupyter environment, please rerun this cell to show the HTML representation or trust the notebook. <br />On GitHub, the HTML representation is unable to render, please try loading this page with nbviewer.org.</b></div><div class=\"sk-container\" hidden><div class=\"sk-item\"><div class=\"sk-estimator sk-toggleable\"><input class=\"sk-toggleable__control sk-hidden--visually\" id=\"sk-estimator-id-1\" type=\"checkbox\" checked><label for=\"sk-estimator-id-1\" class=\"sk-toggleable__label sk-toggleable__label-arrow\">LogisticRegression</label><div class=\"sk-toggleable__content\"><pre>LogisticRegression()</pre></div></div></div></div></div>"
      ],
      "text/plain": [
       "LogisticRegression()"
      ]
     },
     "execution_count": 23,
     "metadata": {},
     "output_type": "execute_result"
    }
   ],
   "source": [
    "model.fit(x_train,y_train)"
   ]
  },
  {
   "cell_type": "code",
   "execution_count": 24,
   "id": "d769636f",
   "metadata": {
    "execution": {
     "iopub.execute_input": "2023-11-04T11:15:13.110371Z",
     "iopub.status.busy": "2023-11-04T11:15:13.109990Z",
     "iopub.status.idle": "2023-11-04T11:15:13.118574Z",
     "shell.execute_reply": "2023-11-04T11:15:13.117415Z"
    },
    "papermill": {
     "duration": 0.026965,
     "end_time": "2023-11-04T11:15:13.120719",
     "exception": false,
     "start_time": "2023-11-04T11:15:13.093754",
     "status": "completed"
    },
    "tags": []
   },
   "outputs": [
    {
     "name": "stdout",
     "output_type": "stream",
     "text": [
      "97.77777777777777\n"
     ]
    }
   ],
   "source": [
    "# print metric to get performance \n",
    "\n",
    "print(model.score(x_test,y_test)* 100) "
   ]
  },
  {
   "cell_type": "code",
   "execution_count": 25,
   "id": "5ad1acea",
   "metadata": {
    "execution": {
     "iopub.execute_input": "2023-11-04T11:15:13.153222Z",
     "iopub.status.busy": "2023-11-04T11:15:13.152206Z",
     "iopub.status.idle": "2023-11-04T11:15:13.373152Z",
     "shell.execute_reply": "2023-11-04T11:15:13.372041Z"
    },
    "papermill": {
     "duration": 0.239777,
     "end_time": "2023-11-04T11:15:13.375817",
     "exception": false,
     "start_time": "2023-11-04T11:15:13.136040",
     "status": "completed"
    },
    "tags": []
   },
   "outputs": [],
   "source": [
    "#knn - k nearest neighbours\n",
    "\n",
    "from sklearn.neighbors import KNeighborsClassifier\n",
    "\n",
    "model1=KNeighborsClassifier()"
   ]
  },
  {
   "cell_type": "code",
   "execution_count": 26,
   "id": "44aaf61e",
   "metadata": {
    "execution": {
     "iopub.execute_input": "2023-11-04T11:15:13.408627Z",
     "iopub.status.busy": "2023-11-04T11:15:13.408212Z",
     "iopub.status.idle": "2023-11-04T11:15:13.418312Z",
     "shell.execute_reply": "2023-11-04T11:15:13.417253Z"
    },
    "papermill": {
     "duration": 0.028983,
     "end_time": "2023-11-04T11:15:13.420279",
     "exception": false,
     "start_time": "2023-11-04T11:15:13.391296",
     "status": "completed"
    },
    "tags": []
   },
   "outputs": [
    {
     "data": {
      "text/html": [
       "<style>#sk-container-id-2 {color: black;background-color: white;}#sk-container-id-2 pre{padding: 0;}#sk-container-id-2 div.sk-toggleable {background-color: white;}#sk-container-id-2 label.sk-toggleable__label {cursor: pointer;display: block;width: 100%;margin-bottom: 0;padding: 0.3em;box-sizing: border-box;text-align: center;}#sk-container-id-2 label.sk-toggleable__label-arrow:before {content: \"▸\";float: left;margin-right: 0.25em;color: #696969;}#sk-container-id-2 label.sk-toggleable__label-arrow:hover:before {color: black;}#sk-container-id-2 div.sk-estimator:hover label.sk-toggleable__label-arrow:before {color: black;}#sk-container-id-2 div.sk-toggleable__content {max-height: 0;max-width: 0;overflow: hidden;text-align: left;background-color: #f0f8ff;}#sk-container-id-2 div.sk-toggleable__content pre {margin: 0.2em;color: black;border-radius: 0.25em;background-color: #f0f8ff;}#sk-container-id-2 input.sk-toggleable__control:checked~div.sk-toggleable__content {max-height: 200px;max-width: 100%;overflow: auto;}#sk-container-id-2 input.sk-toggleable__control:checked~label.sk-toggleable__label-arrow:before {content: \"▾\";}#sk-container-id-2 div.sk-estimator input.sk-toggleable__control:checked~label.sk-toggleable__label {background-color: #d4ebff;}#sk-container-id-2 div.sk-label input.sk-toggleable__control:checked~label.sk-toggleable__label {background-color: #d4ebff;}#sk-container-id-2 input.sk-hidden--visually {border: 0;clip: rect(1px 1px 1px 1px);clip: rect(1px, 1px, 1px, 1px);height: 1px;margin: -1px;overflow: hidden;padding: 0;position: absolute;width: 1px;}#sk-container-id-2 div.sk-estimator {font-family: monospace;background-color: #f0f8ff;border: 1px dotted black;border-radius: 0.25em;box-sizing: border-box;margin-bottom: 0.5em;}#sk-container-id-2 div.sk-estimator:hover {background-color: #d4ebff;}#sk-container-id-2 div.sk-parallel-item::after {content: \"\";width: 100%;border-bottom: 1px solid gray;flex-grow: 1;}#sk-container-id-2 div.sk-label:hover label.sk-toggleable__label {background-color: #d4ebff;}#sk-container-id-2 div.sk-serial::before {content: \"\";position: absolute;border-left: 1px solid gray;box-sizing: border-box;top: 0;bottom: 0;left: 50%;z-index: 0;}#sk-container-id-2 div.sk-serial {display: flex;flex-direction: column;align-items: center;background-color: white;padding-right: 0.2em;padding-left: 0.2em;position: relative;}#sk-container-id-2 div.sk-item {position: relative;z-index: 1;}#sk-container-id-2 div.sk-parallel {display: flex;align-items: stretch;justify-content: center;background-color: white;position: relative;}#sk-container-id-2 div.sk-item::before, #sk-container-id-2 div.sk-parallel-item::before {content: \"\";position: absolute;border-left: 1px solid gray;box-sizing: border-box;top: 0;bottom: 0;left: 50%;z-index: -1;}#sk-container-id-2 div.sk-parallel-item {display: flex;flex-direction: column;z-index: 1;position: relative;background-color: white;}#sk-container-id-2 div.sk-parallel-item:first-child::after {align-self: flex-end;width: 50%;}#sk-container-id-2 div.sk-parallel-item:last-child::after {align-self: flex-start;width: 50%;}#sk-container-id-2 div.sk-parallel-item:only-child::after {width: 0;}#sk-container-id-2 div.sk-dashed-wrapped {border: 1px dashed gray;margin: 0 0.4em 0.5em 0.4em;box-sizing: border-box;padding-bottom: 0.4em;background-color: white;}#sk-container-id-2 div.sk-label label {font-family: monospace;font-weight: bold;display: inline-block;line-height: 1.2em;}#sk-container-id-2 div.sk-label-container {text-align: center;}#sk-container-id-2 div.sk-container {/* jupyter's `normalize.less` sets `[hidden] { display: none; }` but bootstrap.min.css set `[hidden] { display: none !important; }` so we also need the `!important` here to be able to override the default hidden behavior on the sphinx rendered scikit-learn.org. See: https://github.com/scikit-learn/scikit-learn/issues/21755 */display: inline-block !important;position: relative;}#sk-container-id-2 div.sk-text-repr-fallback {display: none;}</style><div id=\"sk-container-id-2\" class=\"sk-top-container\"><div class=\"sk-text-repr-fallback\"><pre>KNeighborsClassifier()</pre><b>In a Jupyter environment, please rerun this cell to show the HTML representation or trust the notebook. <br />On GitHub, the HTML representation is unable to render, please try loading this page with nbviewer.org.</b></div><div class=\"sk-container\" hidden><div class=\"sk-item\"><div class=\"sk-estimator sk-toggleable\"><input class=\"sk-toggleable__control sk-hidden--visually\" id=\"sk-estimator-id-2\" type=\"checkbox\" checked><label for=\"sk-estimator-id-2\" class=\"sk-toggleable__label sk-toggleable__label-arrow\">KNeighborsClassifier</label><div class=\"sk-toggleable__content\"><pre>KNeighborsClassifier()</pre></div></div></div></div></div>"
      ],
      "text/plain": [
       "KNeighborsClassifier()"
      ]
     },
     "execution_count": 26,
     "metadata": {},
     "output_type": "execute_result"
    }
   ],
   "source": [
    "model1.fit(x_train,y_train)"
   ]
  },
  {
   "cell_type": "code",
   "execution_count": 27,
   "id": "03c1a3f4",
   "metadata": {
    "execution": {
     "iopub.execute_input": "2023-11-04T11:15:13.452247Z",
     "iopub.status.busy": "2023-11-04T11:15:13.451834Z",
     "iopub.status.idle": "2023-11-04T11:15:13.469819Z",
     "shell.execute_reply": "2023-11-04T11:15:13.468725Z"
    },
    "papermill": {
     "duration": 0.03658,
     "end_time": "2023-11-04T11:15:13.471897",
     "exception": false,
     "start_time": "2023-11-04T11:15:13.435317",
     "status": "completed"
    },
    "tags": []
   },
   "outputs": [
    {
     "name": "stdout",
     "output_type": "stream",
     "text": [
      "Accuracy :  97.77777777777777\n"
     ]
    }
   ],
   "source": [
    "print(\"Accuracy : \",model1.score(x_test,y_test) * 100)"
   ]
  },
  {
   "cell_type": "code",
   "execution_count": 28,
   "id": "0bea331f",
   "metadata": {
    "execution": {
     "iopub.execute_input": "2023-11-04T11:15:13.504340Z",
     "iopub.status.busy": "2023-11-04T11:15:13.503310Z",
     "iopub.status.idle": "2023-11-04T11:15:13.551081Z",
     "shell.execute_reply": "2023-11-04T11:15:13.550013Z"
    },
    "papermill": {
     "duration": 0.066625,
     "end_time": "2023-11-04T11:15:13.553679",
     "exception": false,
     "start_time": "2023-11-04T11:15:13.487054",
     "status": "completed"
    },
    "tags": []
   },
   "outputs": [],
   "source": [
    "# decision tree\n",
    "\n",
    "from sklearn.tree import DecisionTreeClassifier\n",
    "\n",
    "model=DecisionTreeClassifier()"
   ]
  },
  {
   "cell_type": "code",
   "execution_count": 29,
   "id": "a7eddb77",
   "metadata": {
    "execution": {
     "iopub.execute_input": "2023-11-04T11:15:13.586520Z",
     "iopub.status.busy": "2023-11-04T11:15:13.586116Z",
     "iopub.status.idle": "2023-11-04T11:15:13.596237Z",
     "shell.execute_reply": "2023-11-04T11:15:13.595480Z"
    },
    "papermill": {
     "duration": 0.029142,
     "end_time": "2023-11-04T11:15:13.598441",
     "exception": false,
     "start_time": "2023-11-04T11:15:13.569299",
     "status": "completed"
    },
    "tags": []
   },
   "outputs": [
    {
     "data": {
      "text/html": [
       "<style>#sk-container-id-3 {color: black;background-color: white;}#sk-container-id-3 pre{padding: 0;}#sk-container-id-3 div.sk-toggleable {background-color: white;}#sk-container-id-3 label.sk-toggleable__label {cursor: pointer;display: block;width: 100%;margin-bottom: 0;padding: 0.3em;box-sizing: border-box;text-align: center;}#sk-container-id-3 label.sk-toggleable__label-arrow:before {content: \"▸\";float: left;margin-right: 0.25em;color: #696969;}#sk-container-id-3 label.sk-toggleable__label-arrow:hover:before {color: black;}#sk-container-id-3 div.sk-estimator:hover label.sk-toggleable__label-arrow:before {color: black;}#sk-container-id-3 div.sk-toggleable__content {max-height: 0;max-width: 0;overflow: hidden;text-align: left;background-color: #f0f8ff;}#sk-container-id-3 div.sk-toggleable__content pre {margin: 0.2em;color: black;border-radius: 0.25em;background-color: #f0f8ff;}#sk-container-id-3 input.sk-toggleable__control:checked~div.sk-toggleable__content {max-height: 200px;max-width: 100%;overflow: auto;}#sk-container-id-3 input.sk-toggleable__control:checked~label.sk-toggleable__label-arrow:before {content: \"▾\";}#sk-container-id-3 div.sk-estimator input.sk-toggleable__control:checked~label.sk-toggleable__label {background-color: #d4ebff;}#sk-container-id-3 div.sk-label input.sk-toggleable__control:checked~label.sk-toggleable__label {background-color: #d4ebff;}#sk-container-id-3 input.sk-hidden--visually {border: 0;clip: rect(1px 1px 1px 1px);clip: rect(1px, 1px, 1px, 1px);height: 1px;margin: -1px;overflow: hidden;padding: 0;position: absolute;width: 1px;}#sk-container-id-3 div.sk-estimator {font-family: monospace;background-color: #f0f8ff;border: 1px dotted black;border-radius: 0.25em;box-sizing: border-box;margin-bottom: 0.5em;}#sk-container-id-3 div.sk-estimator:hover {background-color: #d4ebff;}#sk-container-id-3 div.sk-parallel-item::after {content: \"\";width: 100%;border-bottom: 1px solid gray;flex-grow: 1;}#sk-container-id-3 div.sk-label:hover label.sk-toggleable__label {background-color: #d4ebff;}#sk-container-id-3 div.sk-serial::before {content: \"\";position: absolute;border-left: 1px solid gray;box-sizing: border-box;top: 0;bottom: 0;left: 50%;z-index: 0;}#sk-container-id-3 div.sk-serial {display: flex;flex-direction: column;align-items: center;background-color: white;padding-right: 0.2em;padding-left: 0.2em;position: relative;}#sk-container-id-3 div.sk-item {position: relative;z-index: 1;}#sk-container-id-3 div.sk-parallel {display: flex;align-items: stretch;justify-content: center;background-color: white;position: relative;}#sk-container-id-3 div.sk-item::before, #sk-container-id-3 div.sk-parallel-item::before {content: \"\";position: absolute;border-left: 1px solid gray;box-sizing: border-box;top: 0;bottom: 0;left: 50%;z-index: -1;}#sk-container-id-3 div.sk-parallel-item {display: flex;flex-direction: column;z-index: 1;position: relative;background-color: white;}#sk-container-id-3 div.sk-parallel-item:first-child::after {align-self: flex-end;width: 50%;}#sk-container-id-3 div.sk-parallel-item:last-child::after {align-self: flex-start;width: 50%;}#sk-container-id-3 div.sk-parallel-item:only-child::after {width: 0;}#sk-container-id-3 div.sk-dashed-wrapped {border: 1px dashed gray;margin: 0 0.4em 0.5em 0.4em;box-sizing: border-box;padding-bottom: 0.4em;background-color: white;}#sk-container-id-3 div.sk-label label {font-family: monospace;font-weight: bold;display: inline-block;line-height: 1.2em;}#sk-container-id-3 div.sk-label-container {text-align: center;}#sk-container-id-3 div.sk-container {/* jupyter's `normalize.less` sets `[hidden] { display: none; }` but bootstrap.min.css set `[hidden] { display: none !important; }` so we also need the `!important` here to be able to override the default hidden behavior on the sphinx rendered scikit-learn.org. See: https://github.com/scikit-learn/scikit-learn/issues/21755 */display: inline-block !important;position: relative;}#sk-container-id-3 div.sk-text-repr-fallback {display: none;}</style><div id=\"sk-container-id-3\" class=\"sk-top-container\"><div class=\"sk-text-repr-fallback\"><pre>DecisionTreeClassifier()</pre><b>In a Jupyter environment, please rerun this cell to show the HTML representation or trust the notebook. <br />On GitHub, the HTML representation is unable to render, please try loading this page with nbviewer.org.</b></div><div class=\"sk-container\" hidden><div class=\"sk-item\"><div class=\"sk-estimator sk-toggleable\"><input class=\"sk-toggleable__control sk-hidden--visually\" id=\"sk-estimator-id-3\" type=\"checkbox\" checked><label for=\"sk-estimator-id-3\" class=\"sk-toggleable__label sk-toggleable__label-arrow\">DecisionTreeClassifier</label><div class=\"sk-toggleable__content\"><pre>DecisionTreeClassifier()</pre></div></div></div></div></div>"
      ],
      "text/plain": [
       "DecisionTreeClassifier()"
      ]
     },
     "execution_count": 29,
     "metadata": {},
     "output_type": "execute_result"
    }
   ],
   "source": [
    "\n",
    "model.fit(x_train,y_train)"
   ]
  },
  {
   "cell_type": "code",
   "execution_count": 30,
   "id": "7ceb2bf7",
   "metadata": {
    "execution": {
     "iopub.execute_input": "2023-11-04T11:15:13.631919Z",
     "iopub.status.busy": "2023-11-04T11:15:13.631522Z",
     "iopub.status.idle": "2023-11-04T11:15:13.639983Z",
     "shell.execute_reply": "2023-11-04T11:15:13.638905Z"
    },
    "papermill": {
     "duration": 0.027811,
     "end_time": "2023-11-04T11:15:13.642120",
     "exception": false,
     "start_time": "2023-11-04T11:15:13.614309",
     "status": "completed"
    },
    "tags": []
   },
   "outputs": [
    {
     "name": "stdout",
     "output_type": "stream",
     "text": [
      "95.55555555555556\n"
     ]
    }
   ],
   "source": [
    "\n",
    "print(model.score(x_test,y_test)* 100) "
   ]
  },
  {
   "cell_type": "code",
   "execution_count": null,
   "id": "8cb0c855",
   "metadata": {
    "papermill": {
     "duration": 0.015581,
     "end_time": "2023-11-04T11:15:13.673287",
     "exception": false,
     "start_time": "2023-11-04T11:15:13.657706",
     "status": "completed"
    },
    "tags": []
   },
   "outputs": [],
   "source": []
  }
 ],
 "metadata": {
  "kernelspec": {
   "display_name": "Python 3",
   "language": "python",
   "name": "python3"
  },
  "language_info": {
   "codemirror_mode": {
    "name": "ipython",
    "version": 3
   },
   "file_extension": ".py",
   "mimetype": "text/x-python",
   "name": "python",
   "nbconvert_exporter": "python",
   "pygments_lexer": "ipython3",
   "version": "3.10.12"
  },
  "papermill": {
   "default_parameters": {},
   "duration": 10.485913,
   "end_time": "2023-11-04T11:15:14.308294",
   "environment_variables": {},
   "exception": null,
   "input_path": "__notebook__.ipynb",
   "output_path": "__notebook__.ipynb",
   "parameters": {},
   "start_time": "2023-11-04T11:15:03.822381",
   "version": "2.4.0"
  }
 },
 "nbformat": 4,
 "nbformat_minor": 5
}
