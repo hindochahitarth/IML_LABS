{
 "cells": [
  {
   "cell_type": "code",
   "execution_count": 1,
   "id": "b2212464",
   "metadata": {
    "_cell_guid": "b1076dfc-b9ad-4769-8c92-a6c4dae69d19",
    "_uuid": "8f2839f25d086af736a60e9eeb907d3b93b6e0e5",
    "execution": {
     "iopub.execute_input": "2023-09-11T15:17:13.175647Z",
     "iopub.status.busy": "2023-09-11T15:17:13.175159Z",
     "iopub.status.idle": "2023-09-11T15:17:13.190004Z",
     "shell.execute_reply": "2023-09-11T15:17:13.188402Z"
    },
    "papermill": {
     "duration": 0.023891,
     "end_time": "2023-09-11T15:17:13.192454",
     "exception": false,
     "start_time": "2023-09-11T15:17:13.168563",
     "status": "completed"
    },
    "tags": []
   },
   "outputs": [
    {
     "name": "stdout",
     "output_type": "stream",
     "text": [
      "List is :  [1, 2, 3, 4, 5]\n",
      "Array is :  [1 2 3 4 5]\n"
     ]
    }
   ],
   "source": [
    "# Write a NumPy program to implement following operation \n",
    "# to convert a list of numeric values into a one-dimensional NumPy array\n",
    "\n",
    "# Hitarth M Hindocha\n",
    "# 216270307045\n",
    "\n",
    "####################################################################################\n",
    "import numpy as np\n",
    "a=[1,2,3,4,5] # created list\n",
    "print(\"List is : \",a)\n",
    "b=np.array(a) # converted into array\n",
    "print(\"Array is : \",b)\n",
    "\n",
    "####################################################################################\n",
    "\n",
    "\n"
   ]
  },
  {
   "cell_type": "code",
   "execution_count": 2,
   "id": "dd7e1f25",
   "metadata": {
    "execution": {
     "iopub.execute_input": "2023-09-11T15:17:13.201775Z",
     "iopub.status.busy": "2023-09-11T15:17:13.201125Z",
     "iopub.status.idle": "2023-09-11T15:17:13.208379Z",
     "shell.execute_reply": "2023-09-11T15:17:13.206415Z"
    },
    "papermill": {
     "duration": 0.014361,
     "end_time": "2023-09-11T15:17:13.210551",
     "exception": false,
     "start_time": "2023-09-11T15:17:13.196190",
     "status": "completed"
    },
    "tags": []
   },
   "outputs": [
    {
     "name": "stdout",
     "output_type": "stream",
     "text": [
      "[[ 2  3  4]\n",
      " [ 5  6  7]\n",
      " [ 8  9 10]]\n"
     ]
    }
   ],
   "source": [
    "\n",
    "# to create a 3x3 matrix with values ranging from 2 to 10\n",
    "\n",
    "# Hitarth M Hindocha\n",
    "# 216270307045\n",
    "\n",
    "\n",
    "####################################################################################\n",
    "\n",
    "import numpy as np\n",
    "a=np.arange(2,11).reshape(3,3)\n",
    "print(a)\n",
    "\n",
    "\n",
    "####################################################################################\n"
   ]
  },
  {
   "cell_type": "code",
   "execution_count": 3,
   "id": "48b0eaf8",
   "metadata": {
    "execution": {
     "iopub.execute_input": "2023-09-11T15:17:13.219880Z",
     "iopub.status.busy": "2023-09-11T15:17:13.219191Z",
     "iopub.status.idle": "2023-09-11T15:17:13.227162Z",
     "shell.execute_reply": "2023-09-11T15:17:13.225858Z"
    },
    "papermill": {
     "duration": 0.01542,
     "end_time": "2023-09-11T15:17:13.229586",
     "exception": false,
     "start_time": "2023-09-11T15:17:13.214166",
     "status": "completed"
    },
    "tags": []
   },
   "outputs": [
    {
     "name": "stdout",
     "output_type": "stream",
     "text": [
      "Original Array :  [1 2 3 4 5 6]\n",
      "\n",
      "Array of 3 row 2 column is  \n",
      "\n",
      "[[1 2]\n",
      " [3 4]\n",
      " [5 6]]\n",
      "\n",
      "Array of 2 row 3 column is  \n",
      "\n",
      "[[1 2 3]\n",
      " [4 5 6]]\n"
     ]
    }
   ],
   "source": [
    "# to create another shape from an array without changing its data(3*2 to 2*3)\n",
    "\n",
    "# Hitarth M Hindocha\n",
    "# 216270307045\n",
    "\n",
    "\n",
    "####################################################################################\n",
    "\n",
    "import numpy as np\n",
    "\n",
    "arr=np.array([1,2,3,4,5,6])\n",
    "print(\"Original Array : \",arr)\n",
    "print()\n",
    "print(\"Array of 3 row 2 column is  \")\n",
    "print()\n",
    "x=np.reshape(arr,(3,2))\n",
    "print(x)\n",
    "print()\n",
    "print(\"Array of 2 row 3 column is  \")\n",
    "print()\n",
    "y=np.reshape(arr,(2,3))\n",
    "print(y)\n",
    "\n",
    "####################################################################################\n"
   ]
  },
  {
   "cell_type": "code",
   "execution_count": null,
   "id": "f1393810",
   "metadata": {
    "papermill": {
     "duration": 0.003638,
     "end_time": "2023-09-11T15:17:13.236939",
     "exception": false,
     "start_time": "2023-09-11T15:17:13.233301",
     "status": "completed"
    },
    "tags": []
   },
   "outputs": [],
   "source": []
  }
 ],
 "kernelspec": {
  "display_name": "Python 3",
  "language": "python",
  "name": "python3"
 },
 "language_info": {
  "codemirror_mode": {
   "name": "ipython",
   "version": 3
  },
  "file_extension": ".py",
  "mimetype": "text/x-python",
  "name": "python",
  "nbconvert_exporter": "python",
  "pygments_lexer": "ipython3",
  "version": "3.6.4"
 },
 "metadata": {
  "kernelspec": {
   "display_name": "Python 3",
   "language": "python",
   "name": "python3"
  },
  "language_info": {
   "codemirror_mode": {
    "name": "ipython",
    "version": 3
   },
   "file_extension": ".py",
   "mimetype": "text/x-python",
   "name": "python",
   "nbconvert_exporter": "python",
   "pygments_lexer": "ipython3",
   "version": "3.10.12"
  },
  "papermill": {
   "default_parameters": {},
   "duration": 4.292692,
   "end_time": "2023-09-11T15:17:13.661795",
   "environment_variables": {},
   "exception": null,
   "input_path": "__notebook__.ipynb",
   "output_path": "__notebook__.ipynb",
   "parameters": {},
   "start_time": "2023-09-11T15:17:09.369103",
   "version": "2.4.0"
  }
 },
 "nbformat": 4,
 "nbformat_minor": 5
}
