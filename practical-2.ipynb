{
 "cells": [
  {
   "cell_type": "code",
   "execution_count": 1,
   "id": "979c9bcf",
   "metadata": {
    "_cell_guid": "b1076dfc-b9ad-4769-8c92-a6c4dae69d19",
    "_uuid": "8f2839f25d086af736a60e9eeb907d3b93b6e0e5",
    "execution": {
     "iopub.execute_input": "2023-09-05T13:26:23.027946Z",
     "iopub.status.busy": "2023-09-05T13:26:23.027488Z",
     "iopub.status.idle": "2023-09-05T13:26:23.042814Z",
     "shell.execute_reply": "2023-09-05T13:26:23.042012Z"
    },
    "papermill": {
     "duration": 0.024269,
     "end_time": "2023-09-05T13:26:23.045415",
     "exception": false,
     "start_time": "2023-09-05T13:26:23.021146",
     "status": "completed"
    },
    "tags": []
   },
   "outputs": [
    {
     "name": "stdout",
     "output_type": "stream",
     "text": [
      "List is :  [1, 2, 3, 4, 5]\n",
      "Array is :  [1 2 3 4 5]\n"
     ]
    }
   ],
   "source": [
    "# Write a NumPy program to implement following operation \n",
    "# to convert a list of numeric values into a one-dimensional NumPy array\n",
    "\n",
    "# Hitarth M Hindocha\n",
    "# 216270307045\n",
    "\n",
    "####################################################################################\n",
    "import numpy as np\n",
    "a=[1,2,3,4,5] # created list\n",
    "print(\"List is : \",a)\n",
    "b=np.array(a) # converted into array\n",
    "print(\"Array is : \",b)\n",
    "\n",
    "####################################################################################\n",
    "\n",
    "\n"
   ]
  },
  {
   "cell_type": "code",
   "execution_count": 2,
   "id": "a8f067af",
   "metadata": {
    "execution": {
     "iopub.execute_input": "2023-09-05T13:26:23.056727Z",
     "iopub.status.busy": "2023-09-05T13:26:23.055951Z",
     "iopub.status.idle": "2023-09-05T13:26:23.062153Z",
     "shell.execute_reply": "2023-09-05T13:26:23.061207Z"
    },
    "papermill": {
     "duration": 0.01454,
     "end_time": "2023-09-05T13:26:23.064610",
     "exception": false,
     "start_time": "2023-09-05T13:26:23.050070",
     "status": "completed"
    },
    "tags": []
   },
   "outputs": [
    {
     "name": "stdout",
     "output_type": "stream",
     "text": [
      "[[ 2  3  4]\n",
      " [ 5  6  7]\n",
      " [ 8  9 10]]\n"
     ]
    }
   ],
   "source": [
    "\n",
    "# to create a 3x3 matrix with values ranging from 2 to 10\n",
    "\n",
    "# Hitarth M Hindocha\n",
    "# 216270307045\n",
    "\n",
    "import numpy as np\n",
    "a=np.arange(2,11).reshape(3,3)\n",
    "print(a)"
   ]
  },
  {
   "cell_type": "code",
   "execution_count": 3,
   "id": "e751bcdf",
   "metadata": {
    "execution": {
     "iopub.execute_input": "2023-09-05T13:26:23.075345Z",
     "iopub.status.busy": "2023-09-05T13:26:23.074963Z",
     "iopub.status.idle": "2023-09-05T13:26:23.078980Z",
     "shell.execute_reply": "2023-09-05T13:26:23.078016Z"
    },
    "papermill": {
     "duration": 0.012054,
     "end_time": "2023-09-05T13:26:23.081187",
     "exception": false,
     "start_time": "2023-09-05T13:26:23.069133",
     "status": "completed"
    },
    "tags": []
   },
   "outputs": [],
   "source": [
    "# to append values at the end of an array\n",
    "\n",
    "# Hitarth M Hindocha\n",
    "# 216270307045\n"
   ]
  },
  {
   "cell_type": "code",
   "execution_count": null,
   "id": "a05e017d",
   "metadata": {
    "papermill": {
     "duration": 0.004179,
     "end_time": "2023-09-05T13:26:23.090036",
     "exception": false,
     "start_time": "2023-09-05T13:26:23.085857",
     "status": "completed"
    },
    "tags": []
   },
   "outputs": [],
   "source": []
  }
 ],
 "kernelspec": {
  "display_name": "Python 3",
  "language": "python",
  "name": "python3"
 },
 "language_info": {
  "codemirror_mode": {
   "name": "ipython",
   "version": 3
  },
  "file_extension": ".py",
  "mimetype": "text/x-python",
  "name": "python",
  "nbconvert_exporter": "python",
  "pygments_lexer": "ipython3",
  "version": "3.6.4"
 },
 "metadata": {
  "kernelspec": {
   "display_name": "Python 3",
   "language": "python",
   "name": "python3"
  },
  "language_info": {
   "codemirror_mode": {
    "name": "ipython",
    "version": 3
   },
   "file_extension": ".py",
   "mimetype": "text/x-python",
   "name": "python",
   "nbconvert_exporter": "python",
   "pygments_lexer": "ipython3",
   "version": "3.10.12"
  },
  "papermill": {
   "default_parameters": {},
   "duration": 5.31867,
   "end_time": "2023-09-05T13:26:23.514763",
   "environment_variables": {},
   "exception": null,
   "input_path": "__notebook__.ipynb",
   "output_path": "__notebook__.ipynb",
   "parameters": {},
   "start_time": "2023-09-05T13:26:18.196093",
   "version": "2.4.0"
  }
 },
 "nbformat": 4,
 "nbformat_minor": 5
}
