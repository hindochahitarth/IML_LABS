{
 "cells": [
  {
   "cell_type": "code",
   "execution_count": 1,
   "id": "44b76361",
   "metadata": {
    "_cell_guid": "b1076dfc-b9ad-4769-8c92-a6c4dae69d19",
    "_uuid": "8f2839f25d086af736a60e9eeb907d3b93b6e0e5",
    "execution": {
     "iopub.execute_input": "2023-09-05T09:17:55.573022Z",
     "iopub.status.busy": "2023-09-05T09:17:55.572569Z",
     "iopub.status.idle": "2023-09-05T09:17:55.586213Z",
     "shell.execute_reply": "2023-09-05T09:17:55.585498Z"
    },
    "papermill": {
     "duration": 0.021578,
     "end_time": "2023-09-05T09:17:55.588353",
     "exception": false,
     "start_time": "2023-09-05T09:17:55.566775",
     "status": "completed"
    },
    "tags": []
   },
   "outputs": [
    {
     "name": "stdout",
     "output_type": "stream",
     "text": [
      "List is :  [1, 2, 3, 4, 5]\n",
      "Array is :  [1 2 3 4 5]\n"
     ]
    }
   ],
   "source": [
    "#Write a NumPy program to implement following operation \n",
    "#to convert a list of numeric values into a one-dimensional NumPy array\n",
    "\n",
    "#Hitarth M Hindocha\n",
    "#216270307045\n",
    "\n",
    "####################################################################################\n",
    "import numpy as np\n",
    "a=[1,2,3,4,5] #created list\n",
    "print(\"List is : \",a)\n",
    "b=np.array(a) #converted into array\n",
    "print(\"Array is : \",b)\n",
    "\n",
    "####################################################################################\n",
    "\n",
    "\n"
   ]
  },
  {
   "cell_type": "code",
   "execution_count": null,
   "id": "deb962c2",
   "metadata": {
    "papermill": {
     "duration": 0.002925,
     "end_time": "2023-09-05T09:17:55.594796",
     "exception": false,
     "start_time": "2023-09-05T09:17:55.591871",
     "status": "completed"
    },
    "tags": []
   },
   "outputs": [],
   "source": []
  }
 ],
 "kernelspec": {
  "display_name": "Python 3",
  "language": "python",
  "name": "python3"
 },
 "language_info": {
  "codemirror_mode": {
   "name": "ipython",
   "version": 3
  },
  "file_extension": ".py",
  "mimetype": "text/x-python",
  "name": "python",
  "nbconvert_exporter": "python",
  "pygments_lexer": "ipython3",
  "version": "3.6.4"
 },
 "metadata": {
  "kernelspec": {
   "display_name": "Python 3",
   "language": "python",
   "name": "python3"
  },
  "language_info": {
   "codemirror_mode": {
    "name": "ipython",
    "version": 3
   },
   "file_extension": ".py",
   "mimetype": "text/x-python",
   "name": "python",
   "nbconvert_exporter": "python",
   "pygments_lexer": "ipython3",
   "version": "3.10.12"
  },
  "papermill": {
   "default_parameters": {},
   "duration": 4.39137,
   "end_time": "2023-09-05T09:17:55.916257",
   "environment_variables": {},
   "exception": null,
   "input_path": "__notebook__.ipynb",
   "output_path": "__notebook__.ipynb",
   "parameters": {},
   "start_time": "2023-09-05T09:17:51.524887",
   "version": "2.4.0"
  }
 },
 "nbformat": 4,
 "nbformat_minor": 5
}
